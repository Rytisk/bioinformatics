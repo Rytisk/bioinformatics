{
 "cells": [
  {
   "cell_type": "markdown",
   "metadata": {},
   "source": [
    "# Bioinformatika Lab. 1"
   ]
  },
  {
   "cell_type": "markdown",
   "metadata": {},
   "source": [
    "#### Atliko: Rytis Kaplūnas, PS 6, 4 Kursas"
   ]
  },
  {
   "cell_type": "code",
   "execution_count": 1,
   "metadata": {},
   "outputs": [],
   "source": [
    "from Bio import SeqIO\n",
    "from Bio.Seq import Seq\n",
    "from Bio.Alphabet import generic_dna, generic_protein\n",
    "from bio_utils import *\n",
    "from Bio import Align\n",
    "from scipy.spatial import distance\n",
    "import pandas as pd\n",
    "from scipy.spatial import distance_matrix\n",
    "import numpy as np\n",
    "import glob\n",
    "import os\n",
    "from os import listdir\n",
    "from os.path import isfile, join\n",
    "from Bio.SeqUtils.ProtParam import ProteinAnalysis"
   ]
  },
  {
   "cell_type": "markdown",
   "metadata": {},
   "source": [
    "#### Konstantos"
   ]
  },
  {
   "cell_type": "code",
   "execution_count": 2,
   "metadata": {},
   "outputs": [],
   "source": [
    "start = [\"ATG\"]\n",
    "stop = [\"TAA\", \"TAG\", \"TGA\"]\n",
    "convert = {\"C\" : \"G\", \"G\" : \"C\", \"T\" : \"A\", \"A\" : \"T\"}\n",
    "data_path = \"./data/\"\n",
    "output_path = \"./out/\"\n",
    "file_format = \"fasta\"\n",
    "proteins_out = output_path + \"proteins.txt\""
   ]
  },
  {
   "cell_type": "markdown",
   "metadata": {},
   "source": [
    "#### FASTA sekų nuskaitymas iš failo"
   ]
  },
  {
   "cell_type": "code",
   "execution_count": 3,
   "metadata": {},
   "outputs": [],
   "source": [
    "sequences = []\n",
    "onlyfiles = [f for f in listdir(data_path) if isfile(join(data_path, f))]\n",
    "for file in onlyfiles:\n",
    "    if os.path.splitext(file)[1] == '.fasta':\n",
    "        rec = SeqIO.read(data_path + file, file_format)\n",
    "        sequences.append({'seq': rec.seq, 'name' : os.path.splitext(file)[0]})"
   ]
  },
  {
   "cell_type": "markdown",
   "metadata": {},
   "source": [
    "#### Sekos apvertimo funkcijos"
   ]
  },
  {
   "cell_type": "code",
   "execution_count": 4,
   "metadata": {},
   "outputs": [],
   "source": [
    "def complement(data):\n",
    "    compl = []\n",
    "    for var in data:\n",
    "        compl.append(convert[var])\n",
    "    return compl\n",
    "\n",
    "def reverse(data):\n",
    "    return \"\".join(list(reversed(data)))"
   ]
  },
  {
   "cell_type": "markdown",
   "metadata": {},
   "source": [
    "#### Funkcija rasti ORF'ams sekoje"
   ]
  },
  {
   "cell_type": "code",
   "execution_count": 5,
   "metadata": {},
   "outputs": [],
   "source": [
    "def find_orfs(seq, st, numb, revert=False):\n",
    "    frame = \"-\" if revert else \"\"\n",
    "    frame += str(st)\n",
    "    orfstart = -1\n",
    "    orfend = -1\n",
    "    orfs = []\n",
    "    dna = seq['seq']\n",
    "    data = reverse(complement(dna)) if revert else dna\n",
    "    for index in range(st, len(data), 3):\n",
    "        codon = data[index:index+3]\n",
    "        last_start = 0\n",
    "        if codon in start:\n",
    "            if orfstart == -1:\n",
    "                orfstart = index\n",
    "        if codon in stop:\n",
    "            orfend = index + 3\n",
    "            if orfend > orfstart and orfstart != -1:\n",
    "                value = data[orfstart:orfend]\n",
    "                if orfend - orfstart > 100:\n",
    "                    length =(orfend - orfstart)\n",
    "                    name = seq['name']+str(len(orfs)+numb+1)\n",
    "                    orfs.append(Orf(orfstart, orfend, frame, value, length, name))\n",
    "                orfstart = -1\n",
    "    return orfs"
   ]
  },
  {
   "cell_type": "markdown",
   "metadata": {},
   "source": [
    "#### Funkcija rasti visiems ORF'ams"
   ]
  },
  {
   "cell_type": "code",
   "execution_count": 6,
   "metadata": {},
   "outputs": [],
   "source": [
    "def getAllOrfs(dna, start=0):\n",
    "    orfs = []\n",
    "    numb = start\n",
    "    # +1, +2 ir +3 poslinkio frame'ai\n",
    "    for frame in range(0, 3):\n",
    "        orfs.extend(find_orfs(dna, frame, numb))\n",
    "        numb = len(orfs) + start\n",
    "    # -1, -2 ir -3 poslinkio frame'ai\n",
    "    for frame in range(0, 3):\n",
    "        orfs.extend(find_orfs(dna, frame, numb, True))\n",
    "        numb = len(orfs) + start\n",
    "    return orfs    "
   ]
  },
  {
   "cell_type": "markdown",
   "metadata": {},
   "source": [
    "#### Funkcija išskirianti baltymus iš rastų ORF'ų"
   ]
  },
  {
   "cell_type": "code",
   "execution_count": 7,
   "metadata": {},
   "outputs": [],
   "source": [
    "def to_protein(orf):\n",
    "    data = Seq(str(orf.value), generic_dna)\n",
    "    return data.translate(to_stop=True)\n",
    "\n",
    "def to_proteins(orfs):\n",
    "    proteins = []\n",
    "    for orf in orfs:\n",
    "        protein = to_protein(orf)\n",
    "        proteins.append(protein)\n",
    "    return proteins"
   ]
  },
  {
   "cell_type": "code",
   "execution_count": 8,
   "metadata": {},
   "outputs": [],
   "source": [
    "def format_data(names, orfs):\n",
    "    value = \"\"\n",
    "    for name in names:\n",
    "        orf = next(orf for orf in orfs if orf.name == name)\n",
    "        value += \"{}:\\n\\tORF: {}\\n\\tBaltymas: {}\\n\\n\".format(name, orf.value, to_protein(orf))\n",
    "    return value"
   ]
  },
  {
   "cell_type": "code",
   "execution_count": 21,
   "metadata": {},
   "outputs": [
    {
     "name": "stdout",
     "output_type": "stream",
     "text": [
      "Rastų ORF'ų skaičius: 35\n"
     ]
    }
   ],
   "source": [
    "orfs = []\n",
    "for seq in sequences:\n",
    "    orfs.extend(getAllOrfs(seq, len(orfs)))\n",
    "    \n",
    "proteins = to_proteins(orfs)\n",
    "writeToFile(proteins_out, proteins)\n",
    "\n",
    "print(\"Rastų ORF'ų skaičius: {}\".format(len(orfs)))"
   ]
  },
  {
   "cell_type": "markdown",
   "metadata": {
    "scrolled": true
   },
   "source": [
    "# Kodonų ir Dikodonų dažnių skaičiavimai"
   ]
  },
  {
   "cell_type": "code",
   "execution_count": 22,
   "metadata": {},
   "outputs": [],
   "source": [
    "CodonsDict = { \n",
    " 'TTT': 0, 'TTC': 0, 'TTA': 0, 'TTG': 0, 'CTT': 0, \n",
    " 'CTC': 0, 'CTA': 0, 'CTG': 0, 'ATT': 0, 'ATC': 0, \n",
    " 'ATA': 0, 'ATG': 0, 'GTT': 0, 'GTC': 0, 'GTA': 0, \n",
    " 'GTG': 0, 'TAT': 0, 'TAC': 0, 'TAA': 0, 'TAG': 0, \n",
    " 'CAT': 0, 'CAC': 0, 'CAA': 0, 'CAG': 0, 'AAT': 0, \n",
    " 'AAC': 0, 'AAA': 0, 'AAG': 0, 'GAT': 0, 'GAC': 0, \n",
    " 'GAA': 0, 'GAG': 0, 'TCT': 0, 'TCC': 0, 'TCA': 0, \n",
    " 'TCG': 0, 'CCT': 0, 'CCC': 0, 'CCA': 0, 'CCG': 0, \n",
    " 'ACT': 0, 'ACC': 0, 'ACA': 0, 'ACG': 0, 'GCT': 0, \n",
    " 'GCC': 0, 'GCA': 0, 'GCG': 0, 'TGT': 0, 'TGC': 0, \n",
    " 'TGA': 0, 'TGG': 0, 'CGT': 0, 'CGC': 0, 'CGA': 0, \n",
    " 'CGG': 0, 'AGT': 0, 'AGC': 0, 'AGA': 0, 'AGG': 0, \n",
    " 'GGT': 0, 'GGC': 0, 'GGA': 0, 'GGG': 0\n",
    "}"
   ]
  },
  {
   "cell_type": "code",
   "execution_count": 23,
   "metadata": {},
   "outputs": [],
   "source": [
    "amino_acids = [\n",
    "    'A', 'C', 'E', 'D', 'G',\n",
    "    'F', 'I', 'H', 'K', 'M',\n",
    "    'L', 'N', 'Q', 'P', 'S',\n",
    "    'R', 'T', 'W', 'V', 'Y']\n",
    "DicodonsDict = {}\n",
    "for i in range(0, len(amino_acids)):\n",
    "    for j in range(0, len(amino_acids)):\n",
    "        dicodon = amino_acids[i] + amino_acids[j]\n",
    "        DicodonsDict[dicodon] = 0"
   ]
  },
  {
   "cell_type": "markdown",
   "metadata": {},
   "source": [
    "#### Suskaičiuojami kodonų dažniai kiekvienama ORF'e"
   ]
  },
  {
   "cell_type": "code",
   "execution_count": 24,
   "metadata": {},
   "outputs": [],
   "source": [
    "def count_codon_frequencies(orfs):\n",
    "    all_codon_freqs = []\n",
    "    for o in orfs:\n",
    "        codons = CodonsDict.copy()\n",
    "        for index in range(0, len(o.value), 3):\n",
    "            codon = o.value[index:index+3]\n",
    "            codons[str(codon)] += 1\n",
    "        all_codon_freqs.append(codons)\n",
    "    all_codon_frequencies = []\n",
    "    for cf in all_codon_freqs:\n",
    "        numb = 0\n",
    "        freqs = []\n",
    "        for codon, freq in cf.items():\n",
    "            numb += freq\n",
    "        for codon, freq in cf.items():\n",
    "            freqs.append(freq/numb)\n",
    "        all_codon_frequencies.append(freqs)\n",
    "    return all_codon_frequencies"
   ]
  },
  {
   "cell_type": "markdown",
   "metadata": {},
   "source": [
    "#### Suskaičiuojami dikodonų dažniai kiekviename ORF'e"
   ]
  },
  {
   "cell_type": "code",
   "execution_count": 25,
   "metadata": {},
   "outputs": [],
   "source": [
    "def get_dicodon_freq_dict(proteins):\n",
    "    all_dicodon_freqs = []\n",
    "    for protein in proteins:\n",
    "        dicodons = DicodonsDict.copy()\n",
    "        for frame in range(0,3):  \n",
    "            for index in range(frame, len(protein), 2):\n",
    "                if index+2 <= len(protein):\n",
    "                    dicodon = protein[index:index+2]\n",
    "                    dicodons[str(dicodon)] += 1\n",
    "        all_dicodon_freqs.append(dicodons)\n",
    "    return all_dicodon_freqs"
   ]
  },
  {
   "cell_type": "code",
   "execution_count": 26,
   "metadata": {},
   "outputs": [],
   "source": [
    "def get_dicodon_frequencies(all_dicodon_freqs):\n",
    "    all_dicodon_frequencies = []\n",
    "    for df in all_dicodon_freqs:\n",
    "        numb = 0\n",
    "        freqs = []\n",
    "        for dicodon, freq in df.items():\n",
    "            numb += freq\n",
    "        for dicodon, freq in df.items():\n",
    "            freqs.append(freq/numb)\n",
    "        all_dicodon_frequencies.append(freqs)\n",
    "    return all_dicodon_frequencies"
   ]
  },
  {
   "cell_type": "code",
   "execution_count": 27,
   "metadata": {},
   "outputs": [],
   "source": [
    "def count_dicodon_frequencies(proteins):        \n",
    "    all_dicodon_freq_dict = get_dicodon_freq_dict(proteins)\n",
    "    return get_dicodon_frequencies(all_dicodon_freq_dict)"
   ]
  },
  {
   "cell_type": "markdown",
   "metadata": {
    "scrolled": true
   },
   "source": [
    "# Atstumų matricų skaičiavimai"
   ]
  },
  {
   "cell_type": "markdown",
   "metadata": {},
   "source": [
    "#### Įvertinamas atstumas tarp dviejų kodonų/dikodonų dažnių vektorių pagal Euklidinio atstumo formulę"
   ]
  },
  {
   "cell_type": "code",
   "execution_count": 28,
   "metadata": {},
   "outputs": [],
   "source": [
    "def get_scores(values):\n",
    "    arr = np.zeros((len(values), len(values)))\n",
    "    for i in range(0, len(values)):\n",
    "        for j in range(0, len(values)):\n",
    "            arr[i,j] = distance.euclidean(values[i], values[j])\n",
    "    return arr"
   ]
  },
  {
   "cell_type": "code",
   "execution_count": 29,
   "metadata": {},
   "outputs": [],
   "source": [
    "codon_scores = get_scores(count_codon_frequencies(orfs))\n",
    "dicodon_scores = get_scores(count_dicodon_frequencies(proteins))"
   ]
  },
  {
   "cell_type": "markdown",
   "metadata": {},
   "source": [
    "#### Sudedama atstumų matrica į DataFrame"
   ]
  },
  {
   "cell_type": "code",
   "execution_count": 30,
   "metadata": {},
   "outputs": [],
   "source": [
    "def calculate_distances(scores):\n",
    "    data = np.asarray(scores)\n",
    "    df = pd.DataFrame(data)\n",
    "    distances = pd.DataFrame(distance_matrix(df.values, df.values))\n",
    "    return distances"
   ]
  },
  {
   "cell_type": "markdown",
   "metadata": {},
   "source": [
    "#### Išsaugoma atstumų matrica Phylip formatu"
   ]
  },
  {
   "cell_type": "code",
   "execution_count": 31,
   "metadata": {},
   "outputs": [],
   "source": [
    "def save_matrix_to_phy(distances, phy_name):\n",
    "    phylip_out = output_path + phy_name + \"_phylip.phy\"\n",
    "    rows = list(map(lambda x: x.name, orfs))\n",
    "    rows = np.array(rows)[:, np.newaxis]\n",
    "    values = np.hstack((rows, distances.values))\n",
    "    header = str(len(rows))\n",
    "    np.savetxt(phylip_out, values, fmt='%s', header=header, comments='')"
   ]
  },
  {
   "cell_type": "code",
   "execution_count": 32,
   "metadata": {},
   "outputs": [],
   "source": [
    "dicodon_dist = calculate_distances(dicodon_scores)\n",
    "save_matrix_to_phy(dicodon_dist, \"dicodon\")"
   ]
  },
  {
   "cell_type": "code",
   "execution_count": 33,
   "metadata": {},
   "outputs": [],
   "source": [
    "codon_dist = calculate_distances(codon_scores)\n",
    "save_matrix_to_phy(codon_dist, \"codon\")"
   ]
  },
  {
   "cell_type": "markdown",
   "metadata": {},
   "source": [
    "# Sugeneruoti medžiai pagal gautas atstumų matricas"
   ]
  },
  {
   "cell_type": "markdown",
   "metadata": {},
   "source": [
    "### Kodonų atstumų matricos medis:"
   ]
  },
  {
   "cell_type": "markdown",
   "metadata": {},
   "source": [
    "![title](img/codon.jpg)"
   ]
  },
  {
   "cell_type": "markdown",
   "metadata": {},
   "source": [
    "### Dikodonų atstumų matricos medis:"
   ]
  },
  {
   "cell_type": "markdown",
   "metadata": {},
   "source": [
    "![title](img/dicodon.jpg)"
   ]
  },
  {
   "cell_type": "markdown",
   "metadata": {},
   "source": [
    "# Išvados"
   ]
  },
  {
   "cell_type": "raw",
   "metadata": {},
   "source": [
    "Pagal kodonų dažnumą, iš medžio matyti, kad test34 ir plazmide25 išsiskyrė labiausiai iš kitų ORF'ų: jie yra labiausiai nutolę nuo šaknies."
   ]
  },
  {
   "cell_type": "raw",
   "metadata": {},
   "source": [
    "Dikodonų atstumų matricos medis parodo, kad labiausiai išsiskyrė test35 ir plazmide29. Tačiau test34 ir plazmide25 (labiausiai išsiskyrusios pagal kodonų medį) taip pat nemažai išsiskyrė iš kitų."
   ]
  },
  {
   "cell_type": "code",
   "execution_count": 42,
   "metadata": {},
   "outputs": [
    {
     "name": "stdout",
     "output_type": "stream",
     "text": [
      "test34:\n",
      "\tORF: ATGGCAAATTCCTTGACCTTGGTGGAGTGGGATGAGAACTTGACCACAGCGGGCTCCCGGCTGAAGCTGTCGTTCCCGCAGGACTCGCAGCCGTCGTCGTACTGGTAG\n",
      "\tBaltymas: MANSLTLVEWDENLTTAGSRLKLSFPQDSQPSSYW\n",
      "\n",
      "plazmide25:\n",
      "\tORF: ATGGCAAATTCCTTGACCTTGGTGGAGTGGGATGAGAACTTGACCACAGCGGGCTCCCGGCTGAAGCTGTCGTTCCCGCAGGACTCGCAGCCGTCGTCGTACTGGTAG\n",
      "\tBaltymas: MANSLTLVEWDENLTTAGSRLKLSFPQDSQPSSYW\n",
      "\n",
      "test35:\n",
      "\tORF: ATGCAGCTTGGAAGTCAAAGGGAGCGGCCGAGCCAGGAACCACAGAACTCTGGAGCAGAGACCCTGCGACCACGATCCTGTCATAGGCGCAGTTCGTGGACGTAG\n",
      "\tBaltymas: MQLGSQRERPSQEPQNSGAETLRPRSCHRRSSWT\n",
      "\n",
      "plazmide29:\n",
      "\tORF: ATGCAGCTTGGAAGTCAAAGGGAGCGGCCGAGCCAGGAACCACAGAACTCTGGAGCAGAGACCCTGCGACCACGATCCTGTCATAGGCGCAGTTCGTGGACGTAG\n",
      "\tBaltymas: MQLGSQRERPSQEPQNSGAETLRPRSCHRRSSWT\n",
      "\n",
      "\n"
     ]
    }
   ],
   "source": [
    "print(format_data([\"test34\", \"plazmide25\", \"test35\", \"plazmide29\"], orfs))"
   ]
  }
 ],
 "metadata": {
  "kernelspec": {
   "display_name": "Python 3",
   "language": "python",
   "name": "python3"
  },
  "language_info": {
   "codemirror_mode": {
    "name": "ipython",
    "version": 3
   },
   "file_extension": ".py",
   "mimetype": "text/x-python",
   "name": "python",
   "nbconvert_exporter": "python",
   "pygments_lexer": "ipython3",
   "version": "3.5.2"
  }
 },
 "nbformat": 4,
 "nbformat_minor": 2
}
