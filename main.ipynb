{
 "cells": [
  {
   "cell_type": "markdown",
   "metadata": {},
   "source": [
    "# Bioinformatika Lab. 1"
   ]
  },
  {
   "cell_type": "code",
   "execution_count": 1,
   "metadata": {},
   "outputs": [],
   "source": [
    "from Bio import SeqIO\n",
    "from Bio.Seq import Seq\n",
    "from math import ceil\n",
    "from Bio.Alphabet import IUPAC\n",
    "from Orf import Orf\n",
    "from Bio.Alphabet import generic_dna, generic_rna"
   ]
  },
  {
   "cell_type": "code",
   "execution_count": 2,
   "metadata": {},
   "outputs": [],
   "source": [
    "rec = SeqIO.read(\"plazmide.fasta\", \"fasta\")\n",
    "sequence = rec.seq"
   ]
  },
  {
   "cell_type": "code",
   "execution_count": 3,
   "metadata": {
    "scrolled": true
   },
   "outputs": [
    {
     "name": "stdout",
     "output_type": "stream",
     "text": [
      "ID: plazmide\n",
      "Name: plazmide\n",
      "Description: plazmide\n",
      "Number of features: 0\n",
      "Seq('TTGCGCCGGCGAAAACGAAAGGCTCAGTCGAAAGACTGGGCCTTTCGTTTTATC...CCT', SingleLetterAlphabet())\n"
     ]
    }
   ],
   "source": [
    "print(rec)"
   ]
  },
  {
   "cell_type": "code",
   "execution_count": 4,
   "metadata": {},
   "outputs": [],
   "source": [
    "start = [\"ATG\"]\n",
    "stop = [\"TAA\", \"TAG\", \"TGA\"]\n",
    "convert = {\"C\" : \"G\", \"G\" : \"C\", \"T\" : \"A\", \"A\" : \"T\"}"
   ]
  },
  {
   "cell_type": "code",
   "execution_count": 5,
   "metadata": {},
   "outputs": [],
   "source": [
    "def complement(data):\n",
    "    compl = []\n",
    "    for var in data:\n",
    "        compl.append(convert[var])\n",
    "    return compl"
   ]
  },
  {
   "cell_type": "code",
   "execution_count": 6,
   "metadata": {},
   "outputs": [],
   "source": [
    "def reverse(data):\n",
    "    return \"\".join(list(reversed(data)))"
   ]
  },
  {
   "cell_type": "code",
   "execution_count": 32,
   "metadata": {},
   "outputs": [],
   "source": [
    "def findOrfs(dna, st, revert=False):\n",
    "    frame = \"-\" if revert else \"\"\n",
    "    frame += str(st)\n",
    "    orfstart = -1\n",
    "    orfend = -1\n",
    "    orfs = []\n",
    "    data = reverse(complement(dna)) if revert else dna\n",
    "    for index in range(st, len(data), 3):\n",
    "        codon = data[index:index+3]\n",
    "        last_start = 0\n",
    "        if codon in start:\n",
    "            #print(\"Start: {} at {}\".format(codon, index))\n",
    "            if orfstart == -1:\n",
    "                orfstart = index\n",
    "        if codon in stop:\n",
    "            #print(\"Stop: {} at {}\".format(codon, index))\n",
    "            orfend = index + 3\n",
    "            if orfend > orfstart and orfstart != -1:\n",
    "                value = data[orfstart:orfend]\n",
    "                if orfend - orfstart > 75:\n",
    "                    orfs.append(Orf(orfstart, orfend, frame, value, (orfend - orfstart)))\n",
    "                orfstart = -1\n",
    "    return orfs"
   ]
  },
  {
   "cell_type": "code",
   "execution_count": 37,
   "metadata": {},
   "outputs": [],
   "source": [
    "def getAllOrfs(dna):\n",
    "    orfs = []\n",
    "    orfs.extend(findOrfs(dna, 0))\n",
    "    orfs.extend(findOrfs(dna, 1))\n",
    "    orfs.extend(findOrfs(dna, 2))\n",
    "    orfs.extend(findOrfs(dna, 0, True))\n",
    "    orfs.extend(findOrfs(dna, 1, True))\n",
    "    orfs.extend(findOrfs(dna, 2, True))\n",
    "    return orfs    "
   ]
  },
  {
   "cell_type": "code",
   "execution_count": 42,
   "metadata": {},
   "outputs": [
    {
     "name": "stdout",
     "output_type": "stream",
     "text": [
      "Number of orfs: 38\n",
      "ORF <Start: 4012, Stop: 4093, Length: 81, Frame: -1>\n",
      "ORF <Start: 5120, Stop: 5204, Length: 84, Frame: 2>\n",
      "ORF <Start: 3249, Stop: 3333, Length: 84, Frame: -0>\n",
      "ORF <Start: 4825, Stop: 4912, Length: 87, Frame: -1>\n",
      "ORF <Start: 2003, Stop: 2090, Length: 87, Frame: -2>\n",
      "ORF <Start: 3203, Stop: 3293, Length: 90, Frame: -2>\n",
      "ORF <Start: 1112, Stop: 1205, Length: 93, Frame: 2>\n",
      "ORF <Start: 3301, Stop: 3394, Length: 93, Frame: -1>\n",
      "ORF <Start: 3806, Stop: 3902, Length: 96, Frame: -2>\n",
      "ORF <Start: 291, Stop: 393, Length: 102, Frame: -0>\n",
      "ORF <Start: 4133, Stop: 4238, Length: 105, Frame: -2>\n",
      "ORF <Start: 3397, Stop: 3505, Length: 108, Frame: -1>\n",
      "ORF <Start: 4459, Stop: 4567, Length: 108, Frame: -1>\n",
      "ORF <Start: 2261, Stop: 2372, Length: 111, Frame: 2>\n",
      "ORF <Start: 5169, Stop: 5280, Length: 111, Frame: -0>\n",
      "ORF <Start: 1783, Stop: 1897, Length: 114, Frame: -1>\n",
      "ORF <Start: 4102, Stop: 4219, Length: 117, Frame: -1>\n",
      "ORF <Start: 1618, Stop: 1738, Length: 120, Frame: -1>\n",
      "ORF <Start: 2519, Stop: 2639, Length: 120, Frame: -2>\n",
      "ORF <Start: 2799, Stop: 2925, Length: 126, Frame: 0>\n",
      "ORF <Start: 2323, Stop: 2449, Length: 126, Frame: -1>\n",
      "ORF <Start: 4857, Stop: 5007, Length: 150, Frame: 0>\n",
      "ORF <Start: 4962, Stop: 5112, Length: 150, Frame: -0>\n",
      "ORF <Start: 4677, Stop: 4848, Length: 171, Frame: 0>\n",
      "ORF <Start: 1946, Stop: 2117, Length: 171, Frame: 2>\n",
      "ORF <Start: 2732, Stop: 2903, Length: 171, Frame: -2>\n",
      "ORF <Start: 3279, Stop: 3462, Length: 183, Frame: 0>\n",
      "ORF <Start: 2990, Stop: 3200, Length: 210, Frame: 2>\n",
      "ORF <Start: 4092, Stop: 4305, Length: 213, Frame: -0>\n",
      "ORF <Start: 2863, Stop: 3088, Length: 225, Frame: 1>\n",
      "ORF <Start: 4404, Stop: 4671, Length: 267, Frame: 0>\n",
      "ORF <Start: 1494, Stop: 1812, Length: 318, Frame: 0>\n",
      "ORF <Start: 2464, Stop: 2821, Length: 357, Frame: -1>\n",
      "ORF <Start: 2400, Stop: 2793, Length: 393, Frame: 0>\n",
      "ORF <Start: 533, Stop: 962, Length: 429, Frame: 2>\n",
      "ORF <Start: 194, Stop: 1055, Length: 861, Frame: -2>\n",
      "ORF <Start: 391, Stop: 1264, Length: 873, Frame: 1>\n",
      "ORF <Start: 1684, Stop: 2644, Length: 960, Frame: 1>\n"
     ]
    }
   ],
   "source": [
    "orfs = getAllOrfs(sequence) # mind that indexes are wrong for reversed sequences\n",
    "orfs.sort(key=lambda x: x.length, reverse=False)\n",
    "print(\"Number of orfs: {}\".format(len(orfs)))\n",
    "for o in orfs:\n",
    "    print(o)"
   ]
  },
  {
   "cell_type": "code",
   "execution_count": 10,
   "metadata": {},
   "outputs": [],
   "source": [
    "def toRNAs(orfs):\n",
    "    rnas = []\n",
    "    for orf in orfs:\n",
    "        rnas.append(toRNA(orf.value))\n",
    "    return rnas"
   ]
  },
  {
   "cell_type": "code",
   "execution_count": 11,
   "metadata": {},
   "outputs": [],
   "source": [
    "def toRNA(dna):\n",
    "    conv = {\"T\" : \"A\", \"A\" : \"U\", \"C\" : \"G\", \"G\" : \"C\"}\n",
    "    rna = \"\"\n",
    "    for i in dna:\n",
    "        rna += str(conv[i])\n",
    "    return rna"
   ]
  },
  {
   "cell_type": "code",
   "execution_count": 12,
   "metadata": {},
   "outputs": [],
   "source": [
    "def toProteins(rnas):\n",
    "    proteins = []\n",
    "    for rna in rnas:\n",
    "        r = Seq(rna, generic_rna)\n",
    "        proteins.append(r.translate())\n",
    "    return proteins"
   ]
  },
  {
   "cell_type": "code",
   "execution_count": 13,
   "metadata": {},
   "outputs": [],
   "source": [
    "rnas = toRNAs(orfs)"
   ]
  },
  {
   "cell_type": "code",
   "execution_count": 14,
   "metadata": {},
   "outputs": [],
   "source": [
    "proteins = toProteins(rnas)"
   ]
  },
  {
   "cell_type": "code",
   "execution_count": 15,
   "metadata": {
    "scrolled": true
   },
   "outputs": [
    {
     "name": "stdout",
     "output_type": "stream",
     "text": [
      "YYRGPSLS*VPPLTLWSLQYATASHTATENSLAKGAPLGPVGAKTLLRPFSPSPLPPRLNVRVGAPCC*PPVCQQRLTATVEVRPGRARQRLTAPLI*SAAS*PTVAPPQLPSCFAAASDISPPRVRRARCAVTRLVIDRRPTGPTVTTPSTDVITRPQ*RTTETGLWVVVIIKEGTSAMR*PAPRRPA*PSGRLARQSPG*FKTEPRRRRPTDRIYRVSVSLSRLSPCPSADLTVQAKSCLVRLRLT\n",
      "YDDRWDTLWM*T*LLRDRNWDSLKRDQGGVGMAVNKWECCKVI\n",
      "YK**SLGIALVGESKVAIVMGVLVFRGNVPP*SLVCPFLAGIVPGEIVFGL*LRRPL*VARPAPTCPSVDT*RSAGATTRNGVDGARKATTATFGDCVRRGPLPVSNRHSPTALVCSGSPAQSPTTAHSPASVLGQCIAI\n",
      "YTRFPVVFRSLAFFRRNDRKKVSEAGGLLVVFLAASSVSTALGCPDISMVRKGGPSREHARGQGWDGEWPMDRRKEGSPSHRERVSSATSIESSHIQQARFDPTHVLGGQVGLATRNRPLIAELRLGHSVLNSGDRRR*PLS*SSRSIHPPRCLKNFTTGLMPM*SSCHKP*TRDDFGQWKPFSQPSRTRPFVWWRPSPPKKQTFVV*CASFFPRVLLGN*KRCPRLRVTLLLSAI\n",
      "YSNSFS*KWI*ENLIFTSKFS*ISYILI*TRLSMVTN*SLRG*SR*TDKASRYQRTEGQHI\n",
      "YIG*ARGLTRSRRK*KWSQRPTRFCPSVLRRFFPYSRCAFTTYEYEKEKVIIT\n",
      "YRKNSS*EFNTRLLLNSSHGKARAKGRPPRGHYAE*YPLNTRLLLRGRSLLKQI\n",
      "YQ*LIGGHTLTIGETQSLN*HYLMA*FRIATIRQFVLFLGSYWGTPEI\n",
      "YVDRAVQRADLSPVIKA*T*RPTTTDGTPCGCRHNCFATVTGT\n",
      "YRAK*SSVCNCEDLFELLDLRLLVRL*TLSEVLVRLLEMASTERAKPLLPLLET\n",
      "YAVVSSNMTLTWYTPHFMACLRIPLLWRSPREGEGASD*ATRASKPTPLAIVE*VSAIMPIGVLVPYCVLSCTLVFRSFSGPWHFSGATTAKRYPRRGDCS*CF*LRVQSPPLWAVLIFLWSAKGDLRGSTREDKAGTANGLWTGGKREALRTAKEYRVRHP*SQATSSKRGSTRHTCLGGKSGWRRGIGH**QNSGWAI\n",
      "YIRHDVSRTSPPD*CRCDLPVINHRRETTSVNGSLFLNHRELGRLFGGDHRHQKNKRSSSNARLFFLEFF*ETRKDAPDCESPCF*VQFPKTSTLIVFPRSGSRKI\n",
      "YSFEPDCQWLRISHSVDRVARQIKQVGINGLRGSTSIDAMPSRMVDRGHDVTMALLVRVAEV*IVVIWSVGLPGSRLHQDVEIGGGRSDN*QRPFDLIHQAVNYQTRCNNGNDVRSTTVRAANHTEVSRGQGLLVPLNVLGGTTRFFANRGSQEASNSLHSTGVTIVSTNTVVTY*ENDSTVGILRKDTDHS*VGSVRLLSHTPLAQRERAAVVPYYGAVYRLEIFTSSNLLQEAPLLRVPRMATT\n",
      "YSTGTGSHW*WATSTATVFLKGRGQICPDVRRISTSN*LEDTL*Q*ARRNR*IDTI\n",
      "YSS*DRIGEPRRFAQNSPKNAAACGSLPRFGKRHTVLSRAFSQLSPTT\n",
      "YGHRE*SGKGRTTWSGRCKDAFAPFFTFAATAST*CKGWRTVLLTARLSATTNRNGGGQTGTCAAAFNSAANLERG*LTHGRTTTATILLRRSFGHFAATC*KSALRSHPT\n",
      "YFCHALTRTS*TSVTQWSFSATIARVIQDRAAQTQTDRPYL*SER*FKSAIALPFR*PHGTGQKLFGTFTT\n",
      "YSRSKGDATTNGC*STATRVTRGNGSGPTRNHAYRAITLCCYGFCRVQYRAAIGGSLS*KRTTPFGRTWRTTLRESRSATSR*STTGRVTTFLFGGTAGYAFGGEGRATG*VITSTVLSKGLTFRPSLRPRRSVLRRPMGHLVDVDIIASRP*LGLTKKRPGRRRYGGQQMGVLQGHWPVQVVVIGHSTRRREQSSHSNGGTCL*GECASVVTGLSFFGGNCTGRNSLRSVI\n",
      "YGPRLFGQSRAVAHNRPQPRVGTGSVHRYRLTYDRIDTP*SRLT*LSRGIRHT\n",
      "YAFLFYGVVREKAKERVTERREPASRRRSP*SSEFPPLCQ*VS*SPIASFLVHSFSGRFPVLGIFPAQRPQKGIRGGGTARSVFSCEFSLHRFGLS*YFYGPQRGTFEGARERTRLGRRMAYGQAERGKPFAPRKSIECDIHRVKPHPASEVRPDTRAWGASRAGDAE*AIDSRTQVGPFCAE*R*PSSVTIVLIVSLHTSATMSQELHHRIDADVIFLS*TIDARRLRSMEAFFSTIEN*AVCLVATIATKKTNVRRLMRVFFS*SSSRKLEKMPQT\n",
      "YELVTPWIESLDR*SK*VSTD*GAAHLLMLCPPEW*TGVTTLLWRSWCEWPRSK*SLFGRSAFPARVFTRTLK*AEVGQIINNGPSISFIKRSII\n",
      "Y*GVQHVFSPIEEARRLATVFIQPASQ**VPIPS*RI\n",
      "YEKTLTTHELVQ*DSYHIRRWLNENGPQLCPIMARCI\n"
     ]
    }
   ],
   "source": [
    "for p in proteins:\n",
    "    print(p)"
   ]
  },
  {
   "cell_type": "code",
   "execution_count": null,
   "metadata": {},
   "outputs": [],
   "source": []
  }
 ],
 "metadata": {
  "kernelspec": {
   "display_name": "bio-py",
   "language": "python",
   "name": "bio-py"
  },
  "language_info": {
   "codemirror_mode": {
    "name": "ipython",
    "version": 3
   },
   "file_extension": ".py",
   "mimetype": "text/x-python",
   "name": "python",
   "nbconvert_exporter": "python",
   "pygments_lexer": "ipython3",
   "version": "3.5.2"
  }
 },
 "nbformat": 4,
 "nbformat_minor": 2
}
