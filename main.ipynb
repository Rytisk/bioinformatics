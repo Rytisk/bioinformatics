{
 "cells": [
  {
   "cell_type": "markdown",
   "metadata": {},
   "source": [
    "# Bioinformatika Lab. 1"
   ]
  },
  {
   "cell_type": "code",
   "execution_count": 168,
   "metadata": {},
   "outputs": [],
   "source": [
    "from Bio import SeqIO\n",
    "from Bio.Seq import Seq\n",
    "from math import ceil\n",
    "from Bio.Alphabet import IUPAC\n",
    "from Orf import Orf\n",
    "from Bio.Alphabet import generic_dna, generic_rna"
   ]
  },
  {
   "cell_type": "code",
   "execution_count": 133,
   "metadata": {},
   "outputs": [],
   "source": [
    "rec = SeqIO.read(\"plazmide.fasta\", \"fasta\")\n",
    "sequence = rec.seq"
   ]
  },
  {
   "cell_type": "code",
   "execution_count": 139,
   "metadata": {
    "scrolled": true
   },
   "outputs": [
    {
     "name": "stdout",
     "output_type": "stream",
     "text": [
      "ID: plazmide\n",
      "Name: plazmide\n",
      "Description: plazmide\n",
      "Number of features: 0\n",
      "Seq('TTGCGCCGGCGAAAACGAAAGGCTCAGTCGAAAGACTGGGCCTTTCGTTTTATC...CCT', SingleLetterAlphabet())\n"
     ]
    }
   ],
   "source": [
    "print(rec)"
   ]
  },
  {
   "cell_type": "code",
   "execution_count": 140,
   "metadata": {},
   "outputs": [],
   "source": [
    "start = [\"ATG\"]\n",
    "stop = [\"TAA\", \"TAG\", \"TGA\"]\n",
    "convert = {\"C\" : \"G\", \"G\" : \"C\", \"T\" : \"A\", \"A\" : \"T\"}"
   ]
  },
  {
   "cell_type": "code",
   "execution_count": 141,
   "metadata": {},
   "outputs": [],
   "source": [
    "def findOrfs(data):\n",
    "    orfstart = -1\n",
    "    orfend = -1\n",
    "    orfs = []\n",
    "    for i in range(0,ceil(len(data)/3)):\n",
    "        index = i * 3\n",
    "        codon = data[index:index+3]\n",
    "        if codon in start:\n",
    "           # print(\"Start: {} at {}\".format(codon, index))\n",
    "            if orfstart > 0 and orfstart < orfend:\n",
    "                value = data[orfstart:orfend]\n",
    "                if len(value) >= 100:\n",
    "                    orfs.append(Orf(orfstart, orfend, value))\n",
    "            orfstart = index\n",
    "        if codon in stop:\n",
    "          #  print(\"Stop: {} at {}\".format(codon, index))\n",
    "            orfend = index+3\n",
    "    return orfs"
   ]
  },
  {
   "cell_type": "code",
   "execution_count": 142,
   "metadata": {},
   "outputs": [],
   "source": [
    "def complement(data):\n",
    "    compl = []\n",
    "    for var in data:\n",
    "        compl.append(convert[var])\n",
    "    return compl"
   ]
  },
  {
   "cell_type": "code",
   "execution_count": 143,
   "metadata": {},
   "outputs": [],
   "source": [
    "def reverse(data):\n",
    "    return list(reversed(data))"
   ]
  },
  {
   "cell_type": "code",
   "execution_count": 180,
   "metadata": {},
   "outputs": [],
   "source": [
    "def getAllOrfs(data):\n",
    "    orfs = findOrfs(data)\n",
    "    orfs.extend(findOrfs(data[1:]))\n",
    "    orfs.extend(findOrfs(data[2:]))\n",
    "    orfs.extend(findOrfs(reverse(complement(data))))\n",
    "    orfs.extend(findOrfs(reverse(complement(data))[1:]))\n",
    "    orfs.extend(findOrfs(reverse(complement(data))[2:]))\n",
    "    return orfs    "
   ]
  },
  {
   "cell_type": "code",
   "execution_count": 181,
   "metadata": {},
   "outputs": [],
   "source": [
    "orfs = getAllOrfs(sequence) # mind that indexes are wrong for reversed sequences"
   ]
  },
  {
   "cell_type": "code",
   "execution_count": 182,
   "metadata": {},
   "outputs": [],
   "source": [
    "def toRNAs(orfs):\n",
    "    rnas = []\n",
    "    for orf in orfs:\n",
    "        rnas.append(toRNA(orf.value))\n",
    "    return rnas"
   ]
  },
  {
   "cell_type": "code",
   "execution_count": 183,
   "metadata": {},
   "outputs": [],
   "source": [
    "def toRNA(dna):\n",
    "    conv = {\"T\" : \"A\", \"A\" : \"U\", \"C\" : \"G\", \"G\" : \"C\"}\n",
    "    rna = \"\"\n",
    "    for i in dna:\n",
    "        rna += str(conv[i])\n",
    "    return rna"
   ]
  },
  {
   "cell_type": "code",
   "execution_count": 196,
   "metadata": {},
   "outputs": [],
   "source": [
    "def toProteins(rnas):\n",
    "    proteins = []\n",
    "    for rna in rnas:\n",
    "        r = Seq(rna, generic_rna)\n",
    "        proteins.append(r.translate())\n",
    "    return proteins"
   ]
  },
  {
   "cell_type": "code",
   "execution_count": 198,
   "metadata": {},
   "outputs": [],
   "source": [
    "rnas = toRNAs(orfs)"
   ]
  },
  {
   "cell_type": "code",
   "execution_count": 199,
   "metadata": {},
   "outputs": [],
   "source": [
    "proteins = toProteins(rnas)"
   ]
  }
 ],
 "metadata": {
  "kernelspec": {
   "display_name": "bio-py",
   "language": "python",
   "name": "bio-py"
  },
  "language_info": {
   "codemirror_mode": {
    "name": "ipython",
    "version": 3
   },
   "file_extension": ".py",
   "mimetype": "text/x-python",
   "name": "python",
   "nbconvert_exporter": "python",
   "pygments_lexer": "ipython3",
   "version": "3.5.2"
  }
 },
 "nbformat": 4,
 "nbformat_minor": 2
}
