{
 "cells": [
  {
   "cell_type": "markdown",
   "metadata": {},
   "source": [
    "# Bioinformatika Lab. 1"
   ]
  },
  {
   "cell_type": "code",
   "execution_count": 80,
   "metadata": {},
   "outputs": [],
   "source": [
    "from Bio import SeqIO\n",
    "from Bio.Seq import Seq\n",
    "from bio_utils import *\n",
    "from Bio import Align\n",
    "import numpy as np\n",
    "import glob"
   ]
  },
  {
   "cell_type": "code",
   "execution_count": 81,
   "metadata": {},
   "outputs": [],
   "source": [
    "start = [\"ATG\"]\n",
    "stop = [\"TAA\", \"TAG\", \"TGA\"]\n",
    "convert = {\"C\" : \"G\", \"G\" : \"C\", \"T\" : \"A\", \"A\" : \"T\"}\n",
    "data_path = \"./data/\"\n",
    "output_path = \"./out/\"\n",
    "file_format = \"fasta\"\n",
    "proteins_out = output_path + \"proteins.txt\"\n",
    "phylip_out = output_path + \"phylip.phy\"\n",
    "\n",
    "sequences = []"
   ]
  },
  {
   "cell_type": "code",
   "execution_count": 82,
   "metadata": {},
   "outputs": [],
   "source": [
    "for file in glob.glob(data_path + '*.' + file_format):\n",
    "    rec = SeqIO.read(file, file_format)\n",
    "    sequences.append(rec.seq)"
   ]
  },
  {
   "cell_type": "code",
   "execution_count": 83,
   "metadata": {},
   "outputs": [],
   "source": [
    "def complement(data):\n",
    "    compl = []\n",
    "    for var in data:\n",
    "        compl.append(convert[var])\n",
    "    return compl"
   ]
  },
  {
   "cell_type": "code",
   "execution_count": 84,
   "metadata": {},
   "outputs": [],
   "source": [
    "def reverse(data):\n",
    "    return \"\".join(list(reversed(data)))"
   ]
  },
  {
   "cell_type": "code",
   "execution_count": 85,
   "metadata": {},
   "outputs": [],
   "source": [
    "def findOrfs(dna, st, numb, revert=False):\n",
    "    frame = \"-\" if revert else \"\"\n",
    "    frame += str(st)\n",
    "    orfstart = -1\n",
    "    orfend = -1\n",
    "    orfs = []\n",
    "    data = reverse(complement(dna)) if revert else dna\n",
    "    for index in range(st, len(data), 3):\n",
    "        codon = data[index:index+3]\n",
    "        last_start = 0\n",
    "        if codon in start:\n",
    "            if orfstart == -1:\n",
    "                orfstart = index\n",
    "        if codon in stop:\n",
    "            orfend = index + 3\n",
    "            if orfend > orfstart and orfstart != -1:\n",
    "                value = data[orfstart:orfend]\n",
    "                if orfend - orfstart > 100:\n",
    "                    orfs.append(Orf(orfstart, orfend, frame, value, (orfend - orfstart), \"orf\"+str(len(orfs)+numb+1)))\n",
    "                orfstart = -1\n",
    "    return orfs"
   ]
  },
  {
   "cell_type": "code",
   "execution_count": 86,
   "metadata": {},
   "outputs": [],
   "source": [
    "def getAllOrfs(dna, start=0):\n",
    "    orfs = []\n",
    "    numb = start\n",
    "    for frame in range(0, 3):\n",
    "        orfs.extend(findOrfs(dna, frame, numb))\n",
    "        numb = len(orfs) + start\n",
    "    \n",
    "    for frame in range(0, 3):\n",
    "        orfs.extend(findOrfs(dna, frame, numb, True))\n",
    "        numb = len(orfs) + start\n",
    "    return orfs    "
   ]
  },
  {
   "cell_type": "code",
   "execution_count": 87,
   "metadata": {},
   "outputs": [
    {
     "name": "stdout",
     "output_type": "stream",
     "text": [
      "Number of orfs: 35\n",
      "orf1 <Start: 1494, Stop: 1812, Length: 318, Frame: 0>\n",
      "orf2 <Start: 2400, Stop: 2793, Length: 393, Frame: 0>\n",
      "orf3 <Start: 2799, Stop: 2925, Length: 126, Frame: 0>\n",
      "orf4 <Start: 3279, Stop: 3462, Length: 183, Frame: 0>\n",
      "orf5 <Start: 4404, Stop: 4671, Length: 267, Frame: 0>\n",
      "orf6 <Start: 4677, Stop: 4848, Length: 171, Frame: 0>\n",
      "orf7 <Start: 4857, Stop: 5007, Length: 150, Frame: 0>\n",
      "orf8 <Start: 391, Stop: 1264, Length: 873, Frame: 1>\n",
      "orf9 <Start: 1684, Stop: 2644, Length: 960, Frame: 1>\n",
      "orf10 <Start: 2863, Stop: 3088, Length: 225, Frame: 1>\n",
      "orf11 <Start: 533, Stop: 962, Length: 429, Frame: 2>\n",
      "orf12 <Start: 1946, Stop: 2117, Length: 171, Frame: 2>\n",
      "orf13 <Start: 2261, Stop: 2372, Length: 111, Frame: 2>\n",
      "orf14 <Start: 2990, Stop: 3200, Length: 210, Frame: 2>\n",
      "orf15 <Start: 291, Stop: 393, Length: 102, Frame: -0>\n",
      "orf16 <Start: 4092, Stop: 4305, Length: 213, Frame: -0>\n",
      "orf17 <Start: 4962, Stop: 5112, Length: 150, Frame: -0>\n",
      "orf18 <Start: 5169, Stop: 5280, Length: 111, Frame: -0>\n",
      "orf19 <Start: 1618, Stop: 1738, Length: 120, Frame: -1>\n",
      "orf20 <Start: 1783, Stop: 1897, Length: 114, Frame: -1>\n",
      "orf21 <Start: 2323, Stop: 2449, Length: 126, Frame: -1>\n",
      "orf22 <Start: 2464, Stop: 2821, Length: 357, Frame: -1>\n",
      "orf23 <Start: 3397, Stop: 3505, Length: 108, Frame: -1>\n",
      "orf24 <Start: 4102, Stop: 4219, Length: 117, Frame: -1>\n",
      "orf25 <Start: 4459, Stop: 4567, Length: 108, Frame: -1>\n",
      "orf26 <Start: 194, Stop: 1055, Length: 861, Frame: -2>\n",
      "orf27 <Start: 2519, Stop: 2639, Length: 120, Frame: -2>\n",
      "orf28 <Start: 2732, Stop: 2903, Length: 171, Frame: -2>\n",
      "orf29 <Start: 4133, Stop: 4238, Length: 105, Frame: -2>\n",
      "orf30 <Start: 0, Stop: 873, Length: 873, Frame: 0>\n",
      "orf31 <Start: 142, Stop: 571, Length: 429, Frame: 1>\n",
      "orf32 <Start: 27, Stop: 240, Length: 213, Frame: -0>\n",
      "orf33 <Start: 37, Stop: 154, Length: 117, Frame: -1>\n",
      "orf34 <Start: 394, Stop: 502, Length: 108, Frame: -1>\n",
      "orf35 <Start: 68, Stop: 173, Length: 105, Frame: -2>\n"
     ]
    }
   ],
   "source": [
    "orfs = []\n",
    "for seq in sequences:\n",
    "    orfs.extend(getAllOrfs(seq, len(orfs)))\n",
    "print(\"Number of orfs: {}\".format(len(orfs)))\n",
    "for o in orfs:\n",
    "    print(o)"
   ]
  },
  {
   "cell_type": "code",
   "execution_count": 88,
   "metadata": {},
   "outputs": [],
   "source": [
    "rnas = toRNAs(orfs)"
   ]
  },
  {
   "cell_type": "code",
   "execution_count": 89,
   "metadata": {},
   "outputs": [],
   "source": [
    "proteins = toProteins(rnas)\n",
    "writeToFile(proteins_out, proteins)"
   ]
  },
  {
   "cell_type": "code",
   "execution_count": 90,
   "metadata": {},
   "outputs": [
    {
     "name": "stdout",
     "output_type": "stream",
     "text": [
      "ATGGCGCAAAACCTTTCGCGGTATGGCATGATAGCGCCCGGAAGAGAGTCAATTCAGGGTGGTGAATGTGAAACCAGTAACGTTATACGATGTCGCAGAGTATGCCGGTGTCTCTTATCAGACCGTTTCCCGCGTGGTGAACCAGGCCAGCCACGTTTCTGCGAAAACGCGGGAAAAAGTGGAAGCGGCGATGGCGGAGCTGAATTACATTCCCAACCGCGTGGCACAACAACTGGCGGGCAAACAGTCGTTGCTGATTGGCGTTGCCACCTCCAGTCTGGCCCTGCACGCGCCGTCGCAAATTGTCGCGGCGATTAA\n",
      "\n",
      "ATGTTATATCCCGCCGTTAACCACCATCAAACAGGATTTTCGCCTGCTGGGGCAAACCAGCGTGGACCGCTTGCTGCAACTCTCTCAGGGCCAGGCGGTGAAGGGCAATCAGCTGTTGCCCGTCTCACTGGTGAAAAGAAAAACCACCCTGGCGCCCAATACGCAAACCGCCTCTCCCCGCGCGTTGGCCGATTCATTAATGCAGCTGGCACGACAGGTTTCCCGACTGGAAAGCGGGCAGTAATTCCGGATCTGCATCGCAGGATGCTGCTGGCTACCCTGTGGAACACCTACATCTGTATTAACGAAGCGCTGGCATTGACCCTGAGTGATTTTTCTCTGGTCCCGCCGCATCCATACCGCCAGTTGTTTACCCTCACAACGTTCCAGTAA\n",
      "\n",
      "ATGTTCATCATCAGTAACCCGTATCGTGAGCATCCTCTCTCGTTTCATCGGTATCATTACCCCCATGAACAGAAATCCCCCTTACACGGAGGCATCAGTGACCAAACAGGAAAAAACCGCCCTTAA\n",
      "\n",
      "ATGCGGTGTGAAATACCGCACAGATGCGTAAGGAGAAAATACCGCATCAGGCGCTCTTCCGCTTCCTCGCTCACTGACTCGCTGCGCTCGGTCGTTCGGCTGCGGCGAGCGGTATCAGCTCACTCAAAGGCGGTAATACGGTTATCCACAGAATCAGGGGATAACGCAGGAAAGAACATGTGA\n",
      "\n",
      "ATGATACCGCGAGAACCACGCTCACCGGCTCCAGATTTATCAGCAATAAACCAGCCAGCCGGAAGGGCCGAGCGCAGAAGTGGTCCTGCAACTTTATCCGCCTCCATCCAGTCTATTAATTGTTGCCGGGAAGCTAGAGTAAGTAGTTCGCCAGTTAATAGTTTGCGCAACGTTGTTGCCATTGCTGCAGGCATCGTGGTGTCACGCTCGTCGTTTGGTATGGCTTCATTCAGCTCCGGTTCCCAACGATCAAGGCGAGTTACATGA\n",
      "\n",
      "ATGTTGTGCAAAAAAGCGGTTAGCTCCTTCGGTCCTCCGATCGTTGTCAGAAGTAAGTTGGCCGCAGTGTTATCACTCATGGTTATGGCAGCACTGCATAATTCTCTTACTGTCATGCCATCCGTAAGATGCTTTTCTGTGACTGGTGAGTACTCAACCAAGTCATTCTGA\n",
      "\n",
      "ATGCGGCGACCGAGTTGCTCTTGCCCGGCGTCAACACGGGATAATACCGCGCCACATAGCAGAACTTTAAAAGTGCTCATCATTGGAAAACGTTCTTCGGGGCGAAAACTCTCAAGGATCTTACCGCTGTTGAGATCCAGTTCGATGTAA\n",
      "\n",
      "ATGCGGGGTTCTCATCATCATCATCATCATGGTATGGCTAGCATGACTGGTGGACAGCAAATGGGTCGCTCCGGTGATGATGATGACAAGCTGAAGATAGCAGCCTTCAACATCCGCACCTTTGGGGAGACCAAGATGTCCAATGCTACGCTCGCCAGCTACATTGTTCGGATCGTGCGTCGTTACGACATCGTCCTCATCCAGGAGGTCAGAGACAGCCACCTGGTGGCTGTGGGGAAGCTCCTGGACTATCTCAACCAGGATGACCCAAACACCTACCACTATGTGGTCAGTGAGCCGCTGGGCCGCAACAGCTACAAGGAGCGCTACCTCTTTCTGTTCAGACCCAACAAGGTGTCCGTGCTGGACACCTACCAGTACGACGACGGCTGCGAGTCCTGCGGGAACGACAGCTTCAGCCGGGAGCCCGCTGTGGTCAAGTTCTCATCCCACTCCACCAAGGTCAAGGAATTTGCCATTGTTGCCCTGCACTCGGCCCCATCGGACGCAGTGGCTGAGATTAATTCTCTCTACGATGTCTACCTGGATGTCCAGCAGAAGTGGCACTTGAACGATGTCATGTTGATGGGCGATTTCAATGCTGACTGCAGCTACGTGACCTCCTCGCAGTGGTCATCCATCCGCCTGCGTACGAGCTCCACCTTCCAGTGGCTGATTCCTGACAGTGCCGACACCACGGCTACGTCCACGAACTGCGCCTATGACAGGATCGTGGTCGCAGGGTCTCTGCTCCAGAGTTCTGTGGTTCCTGGCTCGGCCGCTCCCTTTGACTTCCAAGCTGCATACGGACTGAGCAATGAGATGGCCCTGGCCATCAGTGACCATTACCCGGTGGAGGTGACGCTGACATAA\n",
      "\n",
      "ATGGCGGAGCTGAATTACATTCCCAACCGCGTGGCACAACAACTGGCGGGCAAACAGTCGTTGCTGATTGGCGTTGCCACCTCCAGTCTGGCCCTGCACGCGCCGTCGCAAATTGTCGCGGCGATTAAATCTCGCGCCGATCAACTGGGTGCCAGCGTGGTGGTGTCGATGGTAGAACGAAGCGGCGTCGAAGCCTGTAAAGCGGCGGTGCACAATCTTCTCGCGCAACGCGTCAGTGGGCTGATCATTAACTATCCGCTGGATGACCAGGATGCCATTGCTGTGGAAGCTGCCTGCACTAATGTTCCGGCGTTATTTCTTGATGTCTCTGACCAGACACCCATCAACAGTATTATTTTCTCCCATGAAGACGGTACGCGACTGGGCGTGGAGCATCTGGTCGCATTGGGTCACCAGCAAATCGCGCTGTTAGCGGGCCCATTAAGTTCTGTCTCGGCGCGTCTGCGTCTGGCTGGCTGGCATAAATATCTCACTCGCAATCAAATTCAGCCGATAGCGGAACGGGAAGGCGACTGGAGTGCCATGTCCGGTTTTCAACAAACCATGCAAATGCTGAATGAGGGCATCGTTCCCACTGCGATGCTGGTTGCCAACGATCAGATGGCGCTGGGCGCAATGCGCGCCATTACCGAGTCCGGGCTGCGCGTTGGTGCGGATATCTCGGTAGTGGGATACGACGATACCGAAGACAGCTCATGTTATATCCCGCCGTTAACCACCATCAAACAGGATTTTCGCCTGCTGGGGCAAACCAGCGTGGACCGCTTGCTGCAACTCTCTCAGGGCCAGGCGGTGAAGGGCAATCAGCTGTTGCCCGTCTCACTGGTGAAAAGAAAAACCACCCTGGCGCCCAATACGCAAACCGCCTCTCCCCGCGCGTTGGCCGATTCATTAATGCAGCTGGCACGACAGGTTTCCCGACTGGAAAGCGGGCAGTAA\n",
      "\n",
      "ATGAACAGAAATCCCCCTTACACGGAGGCATCAGTGACCAAACAGGAAAAAACCGCCCTTAACATGGCCCGCTTTATCAGAAGCCAGACATTAACGCTTCTGGAGAAACTCAACGAGCTGGACGCGGATGAACAGGCAGACATCTGTGAATCGCTTCACGACCACGCTGATGAGCTTTACCGCAGCTGCCTCGCGCGTTTCGGTGATGACGGTGAAAACCTCTGA\n",
      "\n",
      "ATGCTACGCTCGCCAGCTACATTGTTCGGATCGTGCGTCGTTACGACATCGTCCTCATCCAGGAGGTCAGAGACAGCCACCTGGTGGCTGTGGGGAAGCTCCTGGACTATCTCAACCAGGATGACCCAAACACCTACCACTATGTGGTCAGTGAGCCGCTGGGCCGCAACAGCTACAAGGAGCGCTACCTCTTTCTGTTCAGACCCAACAAGGTGTCCGTGCTGGACACCTACCAGTACGACGACGGCTGCGAGTCCTGCGGGAACGACAGCTTCAGCCGGGAGCCCGCTGTGGTCAAGTTCTCATCCCACTCCACCAAGGTCAAGGAATTTGCCATTGTTGCCCTGCACTCGGCCCCATCGGACGCAGTGGCTGAGATTAATTCTCTCTACGATGTCTACCTGGATGTCCAGCAGAAGTGGCACTTGA\n",
      "\n",
      "ATGACCAGGATGCCATTGCTGTGGAAGCTGCCTGCACTAATGTTCCGGCGTTATTTCTTGATGTCTCTGACCAGACACCCATCAACAGTATTATTTTCTCCCATGAAGACGGTACGCGACTGGGCGTGGAGCATCTGGTCGCATTGGGTCACCAGCAAATCGCGCTGTTAG\n",
      "\n",
      "ATGAGGGCATCGTTCCCACTGCGATGCTGGTTGCCAACGATCAGATGGCGCTGGGCGCAATGCGCGCCATTACCGAGTCCGGGCTGCGCGTTGGTGCGGATATCTCGGTAG\n",
      "\n",
      "ATGAACAGGCAGACATCTGTGAATCGCTTCACGACCACGCTGATGAGCTTTACCGCAGCTGCCTCGCGCGTTTCGGTGATGACGGTGAAAACCTCTGACACATGCAGCTCCCGGAGACGGTCACAGCTTGTCTGTAAGCGGATGCCGGGAGCAGACAAGCCCGTCAGGGCGCGTCAGCGGGTGTTGGCGGGTGTCGGGGCGCAGCCATGA\n",
      "\n",
      "ATGCTGAAGATCAGTTGGGTGCACGAGTGGGTTACATCGAACTGGATCTCAACAGCGGTAAGATCCTTGAGAGTTTTCGCCCCGAAGAACGTTTTCCAATGA\n",
      "\n",
      "ATGGTCACTGATGGCCAGGGCCATCTCATTGCTCAGTCCGTATGCAGCTTGGAAGTCAAAGGGAGCGGCCGAGCCAGGAACCACAGAACTCTGGAGCAGAGACCCTGCGACCACGATCCTGTCATAGGCGCAGTTCGTGGACGTAGCCGTGGTGTCGGCACTGTCAGGAATCAGCCACTGGAAGGTGGAGCTCGTACGCAGGCGGATGGATGA\n",
      "\n",
      "ATGTTAAACAAAATTATTTCTAGAGGGGGAATTGTTATCCGCTCACAATTCCCCTATAGTGAGTCGTATTACAGGCGCGCCACCTGCAGGGAAACGCGCGCGAAAAGGTACCGAGCTCAAATTGTTATCCGCTCACAATTTAAGAATTGA\n",
      "\n",
      "ATGGCGGGCGTCCTGCCCGCCACCCTCCGGGCCGTTGCTTCGCAACGTTCAAATCCGCTCCCGGCGGATTTGTCCTACTCAGGAGAGCGTTCACCGACAAACAACAGATAA\n",
      "\n",
      "ATGAGAAAGCGCCACGCTTCCCGAAGGGAGAAAGGCGGACAGGTATCCGGTAAGCGGCAGGGTCGGAACAGGAGAGCGCACGAGGGAGCTTCCAGGGGGAAACGCCTGGTATCTTTATAG\n",
      "\n",
      "ATGCTCGTCAGGGGGGCGGAGCCTATGGAAAAACGCCAGCAACGCGGCCTTTTTACGGTTCCTGGCCTTTTGCTGGCCTTTTGCTCACATGTTCTTTCCTGCGTTATCCCCTGA\n",
      "\n",
      "ATGTCTGCCTGTTCATCCGCGTCCAGCTCGTTGAGTTTCTCCAGAAGCGTTAATGTCTGGCTTCTGATAAAGCGGGCCATGTTAAGGGCGGTTTTTTCCTGTTTGGTCACTGATGCCTCCGTGTAA\n",
      "\n",
      "ATGGGGGTAATGATACCGATGAAACGAGAGAGGATGCTCACGATACGGGTTACTGATGATGAACATGCCCGGTTACTGGAACGTTGTGAGGGTAAACAACTGGCGGTATGGATGCGGCGGGACCAGAGAAAAATCACTCAGGGTCAATGCCAGCGCTTCGTTAATACAGATGTAGGTGTTCCACAGGGTAGCCAGCAGCATCCTGCGATGCAGATCCGGAATTACTGCCCGCTTTCCAGTCGGGAAACCTGTCGTGCCAGCTGCATTAATGAATCGGCCAACGCGCGGGGAGAGGCGGTTTGCGTATTGGGCGCCAGGGTGGTTTTTCTTTTCACCAGTGAGACGGGCAACAGCTGA\n",
      "\n",
      "ATGATCAGCCCACTGACGCGTTGCGCGAGAAGATTGTGCACCGCCGCTTTACAGGCTTCGACGCCGCTTCGTTCTACCATCGACACCACCACGCTGGCACCCAGTTGA\n",
      "\n",
      "ATGGCCAGGGCCATCTCATTGCTCAGTCCGTATGCAGCTTGGAAGTCAAAGGGAGCGGCCGAGCCAGGAACCACAGAACTCTGGAGCAGAGACCCTGCGACCACGATCCTGTCATAG\n",
      "\n",
      "ATGGCAAATTCCTTGACCTTGGTGGAGTGGGATGAGAACTTGACCACAGCGGGCTCCCGGCTGAAGCTGTCGTTCCCGCAGGACTCGCAGCCGTCGTCGTACTGGTAG\n",
      "\n",
      "ATGAGTATTCAACATTTCCGTGTCGCCCTTATTCCCTTTTTTGCGGCATTTTGCCTTCCTGTTTTTGCTCACCCAGAAACGCTGGTGAAAGTAAAAGATGCTGAAGATCAGTTGGGTGCACGAGTGGGTTACATCGAACTGGATCTCAACAGCGGTAAGATCCTTGAGAGTTTTCGCCCCGAAGAACGTTTTCCAATGATGAGCACTTTTAAAGTTCTGCTATGTGGCGCGGTATTATCCCGTGTTGACGCCGGGCAAGAGCAACTCGGTCGCCGCATACACTATTCTCAGAATGACTTGGTTGAGTACTCACCAGTCACAGAAAAGCATCTTACGGATGGCATGACAGTAAGAGAATTATGCAGTGCTGCCATAACCATGAGTGATAACACTGCGGCCAACTTACTTCTGACAACGATCGGAGGACCGAAGGAGCTAACCGCTTTTTTGCACAACATGGGGGATCATGTAACTCGCCTTGATCGTTGGGAACCGGAGCTGAATGAAGCCATACCAAACGACGAGCGTGACACCACGATGCCTGCAGCAATGGCAACAACGTTGCGCAAACTATTAACTGGCGAACTACTTACTCTAGCTTCCCGGCAACAATTAATAGACTGGATGGAGGCGGATAAAGTTGCAGGACCACTTCTGCGCTCGGCCCTTCCGGCTGGCTGGTTTATTGCTGATAAATCTGGAGCCGGTGAGCGTGGTTCTCGCGGTATCATTGCAGCACTGGGGCCAGATGGTAAGCCCTCCCGTATCGTAGTTATCTACACGACGGGGAGTCAGGCAACTATGGATGAACGAAATAGACAGATCGCTGAGATAGGTGCCTCACTGATTAAGCATTGGTAA\n",
      "\n",
      "ATGATGAACATGCCCGGTTACTGGAACGTTGTGAGGGTAAACAACTGGCGGTATGGATGCGGCGGGACCAGAGAAAAATCACTCAGGGTCAATGCCAGCGCTTCGTTAATACAGATGTAG\n",
      "\n",
      "ATGAATCGGCCAACGCGCGGGGAGAGGCGGTTTGCGTATTGGGCGCCAGGGTGGTTTTTCTTTTCACCAGTGAGACGGGCAACAGCTGATTGCCCTTCACCGCCTGGCCCTGAGAGAGTTGCAGCAAGCGGTCCACGCTGGTTTGCCCCAGCAGGCGAAAATCCTGTTTGA\n",
      "\n",
      "ATGCAGCTTGGAAGTCAAAGGGAGCGGCCGAGCCAGGAACCACAGAACTCTGGAGCAGAGACCCTGCGACCACGATCCTGTCATAGGCGCAGTTCGTGGACGTAG\n",
      "\n",
      "ATGCGGGGTTCTCATCATCATCATCATCATGGTATGGCTAGCATGACTGGTGGACAGCAAATGGGTCGCTCCGGTGATGATGATGACAAGCTGAAGATAGCAGCCTTCAACATCCGCACCTTTGGGGAGACCAAGATGTCCAATGCTACGCTCGCCAGCTACATTGTTCGGATCGTGCGTCGTTACGACATCGTCCTCATCCAGGAGGTCAGAGACAGCCACCTGGTGGCTGTGGGGAAGCTCCTGGACTATCTCAACCAGGATGACCCAAACACCTACCACTATGTGGTCAGTGAGCCGCTGGGCCGCAACAGCTACAAGGAGCGCTACCTCTTTCTGTTCAGACCCAACAAGGTGTCCGTGCTGGACACCTACCAGTACGACGACGGCTGCGAGTCCTGCGGGAACGACAGCTTCAGCCGGGAGCCCGCTGTGGTCAAGTTCTCATCCCACTCCACCAAGGTCAAGGAATTTGCCATTGTTGCCCTGCACTCGGCCCCATCGGACGCAGTGGCTGAGATTAATTCTCTCTACGATGTCTACCTGGATGTCCAGCAGAAGTGGCACTTGAACGATGTCATGTTGATGGGCGATTTCAATGCTGACTGCAGCTACGTGACCTCCTCGCAGTGGTCATCCATCCGCCTGCGTACGAGCTCCACCTTCCAGTGGCTGATTCCTGACAGTGCCGACACCACGGCTACGTCCACGAACTGCGCCTATGACAGGATCGTGGTCGCAGGGTCTCTGCTCCAGAGTTCTGTGGTTCCTGGCTCGGCCGCTCCCTTTGACTTCCAAGCTGCATACGGACTGAGCAATGAGATGGCCCTGGCCATCAGTGACCATTACCCGGTGGAGGTGACGCTGACATAA\n",
      "\n",
      "ATGCTACGCTCGCCAGCTACATTGTTCGGATCGTGCGTCGTTACGACATCGTCCTCATCCAGGAGGTCAGAGACAGCCACCTGGTGGCTGTGGGGAAGCTCCTGGACTATCTCAACCAGGATGACCCAAACACCTACCACTATGTGGTCAGTGAGCCGCTGGGCCGCAACAGCTACAAGGAGCGCTACCTCTTTCTGTTCAGACCCAACAAGGTGTCCGTGCTGGACACCTACCAGTACGACGACGGCTGCGAGTCCTGCGGGAACGACAGCTTCAGCCGGGAGCCCGCTGTGGTCAAGTTCTCATCCCACTCCACCAAGGTCAAGGAATTTGCCATTGTTGCCCTGCACTCGGCCCCATCGGACGCAGTGGCTGAGATTAATTCTCTCTACGATGTCTACCTGGATGTCCAGCAGAAGTGGCACTTGA\n",
      "\n",
      "ATGGTCACTGATGGCCAGGGCCATCTCATTGCTCAGTCCGTATGCAGCTTGGAAGTCAAAGGGAGCGGCCGAGCCAGGAACCACAGAACTCTGGAGCAGAGACCCTGCGACCACGATCCTGTCATAGGCGCAGTTCGTGGACGTAGCCGTGGTGTCGGCACTGTCAGGAATCAGCCACTGGAAGGTGGAGCTCGTACGCAGGCGGATGGATGA\n",
      "\n",
      "ATGGCCAGGGCCATCTCATTGCTCAGTCCGTATGCAGCTTGGAAGTCAAAGGGAGCGGCCGAGCCAGGAACCACAGAACTCTGGAGCAGAGACCCTGCGACCACGATCCTGTCATAG\n",
      "\n",
      "ATGGCAAATTCCTTGACCTTGGTGGAGTGGGATGAGAACTTGACCACAGCGGGCTCCCGGCTGAAGCTGTCGTTCCCGCAGGACTCGCAGCCGTCGTCGTACTGGTAG\n",
      "\n",
      "ATGCAGCTTGGAAGTCAAAGGGAGCGGCCGAGCCAGGAACCACAGAACTCTGGAGCAGAGACCCTGCGACCACGATCCTGTCATAGGCGCAGTTCGTGGACGTAG\n",
      "\n"
     ]
    }
   ],
   "source": [
    "for o in orfs:\n",
    "    print(\"{}\\n\".format(o.value))"
   ]
  },
  {
   "cell_type": "markdown",
   "metadata": {
    "scrolled": true
   },
   "source": [
    "## Alignment"
   ]
  },
  {
   "cell_type": "code",
   "execution_count": 91,
   "metadata": {},
   "outputs": [],
   "source": [
    "CodonsDict = { \n",
    " 'TTT': 0, 'TTC': 0, 'TTA': 0, 'TTG': 0, 'CTT': 0, \n",
    " 'CTC': 0, 'CTA': 0, 'CTG': 0, 'ATT': 0, 'ATC': 0, \n",
    " 'ATA': 0, 'ATG': 0, 'GTT': 0, 'GTC': 0, 'GTA': 0, \n",
    " 'GTG': 0, 'TAT': 0, 'TAC': 0, 'TAA': 0, 'TAG': 0, \n",
    " 'CAT': 0, 'CAC': 0, 'CAA': 0, 'CAG': 0, 'AAT': 0, \n",
    " 'AAC': 0, 'AAA': 0, 'AAG': 0, 'GAT': 0, 'GAC': 0, \n",
    " 'GAA': 0, 'GAG': 0, 'TCT': 0, 'TCC': 0, 'TCA': 0, \n",
    " 'TCG': 0, 'CCT': 0, 'CCC': 0, 'CCA': 0, 'CCG': 0, \n",
    " 'ACT': 0, 'ACC': 0, 'ACA': 0, 'ACG': 0, 'GCT': 0, \n",
    " 'GCC': 0, 'GCA': 0, 'GCG': 0, 'TGT': 0, 'TGC': 0, \n",
    " 'TGA': 0, 'TGG': 0, 'CGT': 0, 'CGC': 0, 'CGA': 0, \n",
    " 'CGG': 0, 'AGT': 0, 'AGC': 0, 'AGA': 0, 'AGG': 0, \n",
    " 'GGT': 0, 'GGC': 0, 'GGA': 0, 'GGG': 0\n",
    "}"
   ]
  },
  {
   "cell_type": "code",
   "execution_count": 92,
   "metadata": {},
   "outputs": [],
   "source": [
    "all_codon_freqs = []\n",
    "for o in orfs:\n",
    "    codons = CodonsDict.copy()\n",
    "    for index in range(0, len(o.value), 3):\n",
    "        codon = o.value[index:index+3]\n",
    "        codons[str(codon)] += 1\n",
    "    all_codon_freqs.append(codons)"
   ]
  },
  {
   "cell_type": "code",
   "execution_count": 93,
   "metadata": {},
   "outputs": [
    {
     "name": "stdout",
     "output_type": "stream",
     "text": [
      "{'TTT': 0, 'TTC': 2, 'TTA': 2, 'TTG': 0, 'CTT': 1, 'CTC': 2, 'CTA': 0, 'CTG': 0, 'ATT': 1, 'ATC': 0, 'ATA': 2, 'ATG': 2, 'GTT': 2, 'GTC': 2, 'GTA': 1, 'GTG': 0, 'TAT': 1, 'TAC': 0, 'TAA': 1, 'TAG': 0, 'CAT': 1, 'CAC': 1, 'CAA': 3, 'CAG': 3, 'AAT': 1, 'AAC': 3, 'AAA': 1, 'AAG': 0, 'GAT': 3, 'GAC': 1, 'GAA': 5, 'GAG': 1, 'TCT': 1, 'TCC': 1, 'TCA': 2, 'TCG': 1, 'CCT': 1, 'CCC': 1, 'CCA': 2, 'CCG': 2, 'ACT': 1, 'ACC': 1, 'ACA': 3, 'ACG': 0, 'GCT': 2, 'GCC': 1, 'GCA': 2, 'GCG': 3, 'TGT': 4, 'TGC': 3, 'TGA': 0, 'TGG': 1, 'CGT': 5, 'CGC': 3, 'CGA': 1, 'CGG': 2, 'AGT': 2, 'AGC': 1, 'AGA': 2, 'AGG': 0, 'GGT': 3, 'GGC': 8, 'GGA': 4, 'GGG': 1}\n"
     ]
    }
   ],
   "source": [
    "print(all_codon_freqs[0])"
   ]
  },
  {
   "cell_type": "code",
   "execution_count": 94,
   "metadata": {},
   "outputs": [],
   "source": [
    "all_frequencies = []\n",
    "for cf in all_codon_freqs:\n",
    "    numb = 0\n",
    "    freqs = []\n",
    "    for codon, freq in cf.items():\n",
    "        numb += freq\n",
    "    for codon, freq in cf.items():\n",
    "        freqs.append(freq/numb)\n",
    "    all_frequencies.append(freqs)"
   ]
  },
  {
   "cell_type": "code",
   "execution_count": 95,
   "metadata": {},
   "outputs": [],
   "source": [
    "from scipy.spatial import distance\n",
    "dst = distance.euclidean(all_frequencies[0], all_frequencies[1])"
   ]
  },
  {
   "cell_type": "code",
   "execution_count": 96,
   "metadata": {},
   "outputs": [],
   "source": [
    "def getScores(values):\n",
    "    arr = np.zeros((len(values), len(values)))\n",
    "    for i in range(0, len(values)):\n",
    "        for j in range(0, len(values)):\n",
    "            arr[i,j] = distance.euclidean(values[i], values[j])\n",
    "    return arr"
   ]
  },
  {
   "cell_type": "code",
   "execution_count": 97,
   "metadata": {},
   "outputs": [],
   "source": [
    "scores = getScores(all_frequencies)"
   ]
  },
  {
   "cell_type": "markdown",
   "metadata": {
    "scrolled": true
   },
   "source": [
    "## Distances"
   ]
  },
  {
   "cell_type": "code",
   "execution_count": 98,
   "metadata": {},
   "outputs": [],
   "source": [
    "import pandas as pd\n",
    "from scipy.spatial import distance_matrix\n",
    "\n",
    "data = np.asarray(scores)\n",
    "df = pd.DataFrame(data)"
   ]
  },
  {
   "cell_type": "code",
   "execution_count": 99,
   "metadata": {},
   "outputs": [],
   "source": [
    "distances = pd.DataFrame(distance_matrix(df.values, df.values))"
   ]
  },
  {
   "cell_type": "code",
   "execution_count": 100,
   "metadata": {},
   "outputs": [],
   "source": [
    "rows = list(map(lambda x: x.name, orfs))\n",
    "\n",
    "rows = np.array(rows)[:, np.newaxis]"
   ]
  },
  {
   "cell_type": "code",
   "execution_count": 101,
   "metadata": {},
   "outputs": [],
   "source": [
    "np.savetxt(phylip_out, np.hstack((rows, distances.values)), fmt='%s', header=str(len(rows)),comments='')"
   ]
  },
  {
   "cell_type": "markdown",
   "metadata": {},
   "source": [
    "## Trees"
   ]
  },
  {
   "cell_type": "markdown",
   "metadata": {},
   "source": [
    "#### Tree generator tool: http://www.trex.uqam.ca/index.php?action=trex&menuD=1&method=2"
   ]
  },
  {
   "cell_type": "markdown",
   "metadata": {},
   "source": [
    "### Plasmid tree"
   ]
  },
  {
   "cell_type": "markdown",
   "metadata": {},
   "source": [
    "![title](./img/plasmid_only.png)"
   ]
  },
  {
   "cell_type": "raw",
   "metadata": {},
   "source": []
  },
  {
   "cell_type": "markdown",
   "metadata": {},
   "source": [
    "### Plasmid and Test tree"
   ]
  },
  {
   "cell_type": "markdown",
   "metadata": {},
   "source": [
    "![title](./img/with_test.png)"
   ]
  },
  {
   "cell_type": "raw",
   "metadata": {},
   "source": []
  },
  {
   "cell_type": "code",
   "execution_count": null,
   "metadata": {},
   "outputs": [],
   "source": []
  }
 ],
 "metadata": {
  "kernelspec": {
   "display_name": "Python 3",
   "language": "python",
   "name": "python3"
  },
  "language_info": {
   "codemirror_mode": {
    "name": "ipython",
    "version": 3
   },
   "file_extension": ".py",
   "mimetype": "text/x-python",
   "name": "python",
   "nbconvert_exporter": "python",
   "pygments_lexer": "ipython3",
   "version": "3.6.0"
  }
 },
 "nbformat": 4,
 "nbformat_minor": 2
}
