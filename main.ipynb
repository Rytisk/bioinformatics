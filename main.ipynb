{
 "cells": [
  {
   "cell_type": "markdown",
   "metadata": {},
   "source": [
    "# Bioinformatika Lab. 1"
   ]
  },
  {
   "cell_type": "code",
   "execution_count": 1,
   "metadata": {},
   "outputs": [],
   "source": [
    "from Bio import SeqIO\n",
    "from Bio.Seq import Seq\n",
    "from Bio.SeqRecord import SeqRecord\n",
    "from math import ceil\n",
    "from Bio import AlignIO\n",
    "from Bio.Align import MultipleSeqAlignment\n",
    "from Orf import Orf\n",
    "from Bio.Alphabet import generic_dna, generic_rna"
   ]
  },
  {
   "cell_type": "code",
   "execution_count": 2,
   "metadata": {},
   "outputs": [],
   "source": [
    "rec = SeqIO.read(\"plazmide.fasta\", \"fasta\")\n",
    "sequence = rec.seq"
   ]
  },
  {
   "cell_type": "code",
   "execution_count": 3,
   "metadata": {
    "scrolled": true
   },
   "outputs": [
    {
     "name": "stdout",
     "output_type": "stream",
     "text": [
      "ID: plazmide\n",
      "Name: plazmide\n",
      "Description: plazmide\n",
      "Number of features: 0\n",
      "Seq('TTGCGCCGGCGAAAACGAAAGGCTCAGTCGAAAGACTGGGCCTTTCGTTTTATC...CCT', SingleLetterAlphabet())\n"
     ]
    }
   ],
   "source": [
    "print(rec)"
   ]
  },
  {
   "cell_type": "code",
   "execution_count": 4,
   "metadata": {},
   "outputs": [],
   "source": [
    "start = [\"ATG\"]\n",
    "stop = [\"TAA\", \"TAG\", \"TGA\"]\n",
    "convert = {\"C\" : \"G\", \"G\" : \"C\", \"T\" : \"A\", \"A\" : \"T\"}"
   ]
  },
  {
   "cell_type": "code",
   "execution_count": 5,
   "metadata": {},
   "outputs": [],
   "source": [
    "def complement(data):\n",
    "    compl = []\n",
    "    for var in data:\n",
    "        compl.append(convert[var])\n",
    "    return compl"
   ]
  },
  {
   "cell_type": "code",
   "execution_count": 6,
   "metadata": {},
   "outputs": [],
   "source": [
    "def reverse(data):\n",
    "    return \"\".join(list(reversed(data)))"
   ]
  },
  {
   "cell_type": "code",
   "execution_count": 7,
   "metadata": {},
   "outputs": [],
   "source": [
    "def findOrfs(dna, st, numb, revert=False):\n",
    "    frame = \"-\" if revert else \"\"\n",
    "    frame += str(st)\n",
    "    orfstart = -1\n",
    "    orfend = -1\n",
    "    orfs = []\n",
    "    data = reverse(complement(dna)) if revert else dna\n",
    "    for index in range(st, len(data), 3):\n",
    "        codon = data[index:index+3]\n",
    "        last_start = 0\n",
    "        if codon in start:\n",
    "            #print(\"Start: {} at {}\".format(codon, index))\n",
    "            if orfstart == -1:\n",
    "                orfstart = index\n",
    "        if codon in stop:\n",
    "            #print(\"Stop: {} at {}\".format(codon, index))\n",
    "            orfend = index + 3\n",
    "            if orfend > orfstart and orfstart != -1:\n",
    "                value = data[orfstart:orfend]\n",
    "                if orfend - orfstart > 100:\n",
    "                    orfs.append(Orf(orfstart, orfend, frame, value, (orfend - orfstart), len(orfs)+numb+1))\n",
    "                orfstart = -1\n",
    "    return orfs"
   ]
  },
  {
   "cell_type": "code",
   "execution_count": 8,
   "metadata": {},
   "outputs": [],
   "source": [
    "def getAllOrfs(dna):\n",
    "    orfs = []\n",
    "    orfs.extend(findOrfs(dna, 0, 0))\n",
    "    numb = len(orfs)\n",
    "    orfs.extend(findOrfs(dna, 1, numb))\n",
    "    numb = len(orfs)\n",
    "    orfs.extend(findOrfs(dna, 2, numb))\n",
    "    numb = len(orfs)\n",
    "    orfs.extend(findOrfs(dna, 0, numb, True))\n",
    "    numb = len(orfs)\n",
    "    orfs.extend(findOrfs(dna, 1, numb, True))\n",
    "    numb = len(orfs)\n",
    "    orfs.extend(findOrfs(dna, 2, numb, True))\n",
    "    return orfs    "
   ]
  },
  {
   "cell_type": "code",
   "execution_count": 9,
   "metadata": {},
   "outputs": [
    {
     "name": "stdout",
     "output_type": "stream",
     "text": [
      "Number of orfs: 29\n",
      "1 <Start: 1494, Stop: 1812, Length: 318, Frame: 0>\n",
      "2 <Start: 2400, Stop: 2793, Length: 393, Frame: 0>\n",
      "3 <Start: 2799, Stop: 2925, Length: 126, Frame: 0>\n",
      "4 <Start: 3279, Stop: 3462, Length: 183, Frame: 0>\n",
      "5 <Start: 4404, Stop: 4671, Length: 267, Frame: 0>\n",
      "6 <Start: 4677, Stop: 4848, Length: 171, Frame: 0>\n",
      "7 <Start: 4857, Stop: 5007, Length: 150, Frame: 0>\n",
      "8 <Start: 391, Stop: 1264, Length: 873, Frame: 1>\n",
      "9 <Start: 1684, Stop: 2644, Length: 960, Frame: 1>\n",
      "10 <Start: 2863, Stop: 3088, Length: 225, Frame: 1>\n",
      "11 <Start: 533, Stop: 962, Length: 429, Frame: 2>\n",
      "12 <Start: 1946, Stop: 2117, Length: 171, Frame: 2>\n",
      "13 <Start: 2261, Stop: 2372, Length: 111, Frame: 2>\n",
      "14 <Start: 2990, Stop: 3200, Length: 210, Frame: 2>\n",
      "15 <Start: 291, Stop: 393, Length: 102, Frame: -0>\n",
      "16 <Start: 4092, Stop: 4305, Length: 213, Frame: -0>\n",
      "17 <Start: 4962, Stop: 5112, Length: 150, Frame: -0>\n",
      "18 <Start: 5169, Stop: 5280, Length: 111, Frame: -0>\n",
      "19 <Start: 1618, Stop: 1738, Length: 120, Frame: -1>\n",
      "20 <Start: 1783, Stop: 1897, Length: 114, Frame: -1>\n",
      "21 <Start: 2323, Stop: 2449, Length: 126, Frame: -1>\n",
      "22 <Start: 2464, Stop: 2821, Length: 357, Frame: -1>\n",
      "23 <Start: 3397, Stop: 3505, Length: 108, Frame: -1>\n",
      "24 <Start: 4102, Stop: 4219, Length: 117, Frame: -1>\n",
      "25 <Start: 4459, Stop: 4567, Length: 108, Frame: -1>\n",
      "26 <Start: 194, Stop: 1055, Length: 861, Frame: -2>\n",
      "27 <Start: 2519, Stop: 2639, Length: 120, Frame: -2>\n",
      "28 <Start: 2732, Stop: 2903, Length: 171, Frame: -2>\n",
      "29 <Start: 4133, Stop: 4238, Length: 105, Frame: -2>\n"
     ]
    }
   ],
   "source": [
    "orfs = getAllOrfs(sequence) # mind that indexes are wrong for reversed sequences\n",
    "orfs.sort(key=lambda x: x.name, reverse=False)\n",
    "print(\"Number of orfs: {}\".format(len(orfs)))\n",
    "for o in orfs:\n",
    "    print(o)"
   ]
  },
  {
   "cell_type": "code",
   "execution_count": 10,
   "metadata": {},
   "outputs": [],
   "source": [
    "def toRNAs(orfs):\n",
    "    rnas = []\n",
    "    for orf in orfs:\n",
    "        rnas.append(toRNA(orf.value))\n",
    "    return rnas"
   ]
  },
  {
   "cell_type": "code",
   "execution_count": 11,
   "metadata": {},
   "outputs": [],
   "source": [
    "def toRNA(dna):\n",
    "    conv = {\"T\" : \"A\", \"A\" : \"U\", \"C\" : \"G\", \"G\" : \"C\"}\n",
    "    rna = \"\"\n",
    "    for i in dna:\n",
    "        rna += str(conv[i])\n",
    "    return rna"
   ]
  },
  {
   "cell_type": "code",
   "execution_count": 12,
   "metadata": {},
   "outputs": [],
   "source": [
    "def toProteins(rnas):\n",
    "    proteins = []\n",
    "    for rna in rnas:\n",
    "        r = Seq(rna, generic_rna)\n",
    "        proteins.append(r.translate())\n",
    "    return proteins"
   ]
  },
  {
   "cell_type": "code",
   "execution_count": 13,
   "metadata": {},
   "outputs": [],
   "source": [
    "rnas = toRNAs(orfs)"
   ]
  },
  {
   "cell_type": "code",
   "execution_count": 14,
   "metadata": {},
   "outputs": [],
   "source": [
    "proteins = toProteins(rnas)"
   ]
  },
  {
   "cell_type": "markdown",
   "metadata": {
    "scrolled": true
   },
   "source": [
    "### Alignment"
   ]
  },
  {
   "cell_type": "code",
   "execution_count": 15,
   "metadata": {},
   "outputs": [],
   "source": [
    "from Bio import Align\n",
    "import numpy as np\n",
    "aligner = Align.PairwiseAligner()\n",
    "aligner.open_gap_score = -10\n",
    "aligner.extend_gap_score = -0.5"
   ]
  },
  {
   "cell_type": "code",
   "execution_count": 16,
   "metadata": {},
   "outputs": [],
   "source": [
    "class Comparison:\n",
    "    def __init__(self, firstOrf, secondOrf, alignment):\n",
    "        self.firstOrf = firstOrf\n",
    "        self.secondOrf = secondOrf\n",
    "        self.alignment = alignment\n",
    "    def __str__(self):\n",
    "        return 'Comparison <Score: {}>'.format(self.alignment.score)"
   ]
  },
  {
   "cell_type": "code",
   "execution_count": 17,
   "metadata": {},
   "outputs": [],
   "source": [
    "comparisons = []\n",
    "arr = np.zeros((len(orfs), len(orfs)))\n",
    "for i in range(0, len(orfs)):\n",
    "    for j in range(0, len(orfs)):\n",
    "        arr[i,j] = aligner.score(orfs[i].value, orfs[j].value)\n",
    "        #al = aligner.align(orfs[i].value, orfs[j].value)\n",
    "        #comparisons.append(Comparison(orfs[i],orfs[j],al))"
   ]
  },
  {
   "cell_type": "code",
   "execution_count": 18,
   "metadata": {},
   "outputs": [],
   "source": [
    "comparisons.sort(key=lambda x: x.alignment.score, reverse=False)"
   ]
  },
  {
   "cell_type": "code",
   "execution_count": 26,
   "metadata": {
    "scrolled": true
   },
   "outputs": [],
   "source": [
    "for c in comparisons:\n",
    "    print(\"{} and {} Score: {}\".format(c.firstOrf.name, c.secondOrf.name, c.alignment.score))"
   ]
  },
  {
   "cell_type": "code",
   "execution_count": 30,
   "metadata": {},
   "outputs": [
    {
     "name": "stdout",
     "output_type": "stream",
     "text": [
      "(29, 29)\n"
     ]
    }
   ],
   "source": [
    "print(arr.shape)"
   ]
  },
  {
   "cell_type": "code",
   "execution_count": 31,
   "metadata": {},
   "outputs": [],
   "source": [
    "import pandas as pd\n",
    "from scipy.spatial import distance_matrix\n",
    "\n",
    "data = np.asarray(arr)\n",
    "ctys = []\n",
    "for i in range(0, len(orfs)):\n",
    "    ctys.append(str(i))\n",
    "df = pd.DataFrame(data, columns=ctys, index=ctys)"
   ]
  },
  {
   "cell_type": "code",
   "execution_count": 34,
   "metadata": {},
   "outputs": [],
   "source": [
    "distance = pd.DataFrame(distance_matrix(df.values, df.values), index=df.index, columns=df.index)"
   ]
  },
  {
   "cell_type": "code",
   "execution_count": 37,
   "metadata": {},
   "outputs": [
    {
     "name": "stdout",
     "output_type": "stream",
     "text": [
      "              0            1            2            3            4  \\\n",
      "0      0.000000   483.161981   673.958641   556.491015   383.290360   \n",
      "1    483.161981     0.000000   876.489447   771.723234   578.815169   \n",
      "2    673.958641   876.489447     0.000000   291.619615   526.235451   \n",
      "3    556.491015   771.723234   291.619615     0.000000   401.015897   \n",
      "4    383.290360   578.815169   526.235451   401.015897     0.000000   \n",
      "5    585.327472   796.154665   251.826329   183.749830   432.956984   \n",
      "6    617.887328   827.010731   189.558698   236.716075   464.951342   \n",
      "7   1861.845523  1687.014597  2192.612597  2139.438595  1971.405907   \n",
      "8   2054.976460  1903.424742  2358.283910  2318.622436  2162.550520   \n",
      "9    457.751843   679.433404   410.434526   276.197393   322.961685   \n",
      "10   669.250887   541.068157  1061.888177   960.072133   770.595387   \n",
      "11   566.413056   779.206167   278.986559   231.401167   425.203775   \n",
      "12   683.613195   881.547219   166.606572   315.160673   541.461448   \n",
      "13   494.530838   711.033579   371.293684   245.033671   348.715142   \n",
      "14   690.909184   883.357798   167.432822   330.758598   550.842083   \n",
      "15   505.890798   723.815930   373.703425   261.231219   359.624804   \n",
      "16   622.229058   835.968899   183.857961   227.730652   472.674835   \n",
      "17   696.692005   892.824871   146.671401   319.399436   550.824155   \n",
      "18   686.078713   884.175039   148.159542   309.343256   535.086909   \n",
      "19   693.249234   887.677588   149.315940   316.537912   544.660445   \n",
      "20   671.135046   874.948999   127.577427   290.834145   524.562913   \n",
      "21   384.927915   430.561262   769.262796   656.094696   480.030728   \n",
      "22   701.662312   898.703789   153.221245   327.257162   555.608225   \n",
      "23   696.656120   900.443918   153.965905   313.586511   546.440070   \n",
      "24   701.653404   892.842091   167.311835   334.188944   558.893997   \n",
      "25  1819.218788  1656.422953  2135.556778  2086.582313  1924.766739   \n",
      "26   672.328789   873.050686   153.482084   298.614718   527.606387   \n",
      "27   582.349766   794.381992   251.111529   197.159834   425.668004   \n",
      "28   702.468505   896.468349   169.955141   330.698125   556.461589   \n",
      "\n",
      "              5            6            7            8            9  \\\n",
      "0    585.327472   617.887328  1861.845523  2054.976460   457.751843   \n",
      "1    796.154665   827.010731  1687.014597  1903.424742   679.433404   \n",
      "2    251.826329   189.558698  2192.612597  2358.283910   410.434526   \n",
      "3    183.749830   236.716075  2139.438595  2318.622436   276.197393   \n",
      "4    432.956984   464.951342  1971.405907  2162.550520   322.961685   \n",
      "5      0.000000   206.925107  2155.325729  2330.323690   314.183068   \n",
      "6    206.925107     0.000000  2169.828910  2342.201208   352.442194   \n",
      "7   2155.325729  2169.828910     0.000000  1066.046669  2063.604613   \n",
      "8   2330.323690  2342.201208  1066.046669     0.000000  2251.689699   \n",
      "9    314.183068   352.442194  2063.604613  2251.689699     0.000000   \n",
      "10   984.577320  1014.748491  1403.614798  1804.941135   867.589765   \n",
      "11   199.266154   242.955757  2134.895196  2273.545029   313.886922   \n",
      "12   283.643703   221.166792  2175.936523  2319.010295   435.559697   \n",
      "13   267.774159   311.958331  2093.471758  2276.629636   224.911094   \n",
      "14   294.231626   224.660299  2169.605897  2329.700786   445.563407   \n",
      "15   284.953066   323.666109  2104.051746  2288.506882   259.764797   \n",
      "16   196.428740   154.748990  2178.463392  2347.612883   351.959160   \n",
      "17   287.932284   223.244261  2191.304406  2351.199694   442.219968   \n",
      "18   276.306442   205.575412  2196.745149  2359.251841   427.289422   \n",
      "19   283.029592   216.234248  2189.862838  2352.858527   435.369671   \n",
      "20   252.755811   188.127616  2192.590249  2357.161322   408.134782   \n",
      "21   687.339618   717.666531  1790.594803  1998.028841   559.316771   \n",
      "22   291.770029   227.035790  2195.624569  2356.137464   446.054649   \n",
      "23   278.811764   216.633331  2209.807005  2375.966225   433.025981   \n",
      "24   300.371853   232.770810  2186.959705  2347.531629   450.766292   \n",
      "25  2099.226107  2113.601961   923.803415  1024.453879  2017.266281   \n",
      "26   266.423066   203.641229  2196.570679  2362.528360   415.536701   \n",
      "27   182.491096   206.699057  2155.659992  2328.950300   310.828731   \n",
      "28   304.860214   236.953054  2189.370857  2351.599615   448.110199   \n",
      "\n",
      "       ...                19           20           21           22  \\\n",
      "0      ...        693.249234   671.135046   384.927915   701.662312   \n",
      "1      ...        887.677588   874.948999   430.561262   898.703789   \n",
      "2      ...        149.315940   127.577427   769.262796   153.221245   \n",
      "3      ...        316.537912   290.834145   656.094696   327.257162   \n",
      "4      ...        544.660445   524.562913   480.030728   555.608225   \n",
      "5      ...        283.029592   252.755811   687.339618   291.770029   \n",
      "6      ...        216.234248   188.127616   717.666531   227.035790   \n",
      "7      ...       2189.862838  2192.590249  1790.594803  2195.624569   \n",
      "8      ...       2352.858527  2357.161322  1998.028841  2356.137464   \n",
      "9      ...        435.369671   408.134782   559.316771   446.054649   \n",
      "10     ...       1074.834057  1061.520136   609.692340  1084.866466   \n",
      "11     ...        319.821435   285.314738   668.408745   326.113094   \n",
      "12     ...        146.794073   155.713680   778.516538   134.437718   \n",
      "13     ...        398.144760   372.582877   596.043832   406.707819   \n",
      "14     ...        136.941593   169.603213   783.094822   127.283149   \n",
      "15     ...        397.025188   378.215217   606.110551   407.919722   \n",
      "16     ...        216.264884   195.519181   725.386793   218.342621   \n",
      "17     ...        127.928691   153.595247   789.260255   119.236110   \n",
      "18     ...        141.171881   139.421125   779.951601   142.564021   \n",
      "19     ...          0.000000   136.926075   786.301469   129.874940   \n",
      "20     ...        136.926075     0.000000   768.939692   158.244273   \n",
      "21     ...        786.301469   768.939692     0.000000   796.782279   \n",
      "22     ...        129.874940   158.244273   796.782279     0.000000   \n",
      "23     ...        155.107221   168.435448   792.759579   147.271009   \n",
      "24     ...        131.259285   160.549836   795.361553   104.383907   \n",
      "25     ...       2130.978766  2135.392177  1757.912114  2134.317572   \n",
      "26     ...        162.337611   152.613073   735.194872   160.096846   \n",
      "27     ...        287.866723   260.141308   686.094928   297.080376   \n",
      "28     ...        144.511245   174.933559   794.754050   140.274730   \n",
      "\n",
      "             23           24           25           26           27  \\\n",
      "0    696.656120   701.653404  1819.218788   672.328789   582.349766   \n",
      "1    900.443918   892.842091  1656.422953   873.050686   794.381992   \n",
      "2    153.965905   167.311835  2135.556778   153.482084   251.111529   \n",
      "3    313.586511   334.188944  2086.582313   298.614718   197.159834   \n",
      "4    546.440070   558.893997  1924.766739   527.606387   425.668004   \n",
      "5    278.811764   300.371853  2099.226107   266.423066   182.491096   \n",
      "6    216.633331   232.770810  2113.601961   203.641229   206.699057   \n",
      "7   2209.807005  2186.959705   923.803415  2196.570679  2155.659992   \n",
      "8   2375.966225  2347.531629  1024.453879  2362.528360  2328.950300   \n",
      "9    433.025981   450.766292  2017.266281   415.536701   310.828731   \n",
      "10  1084.382082  1080.460203  1556.145478  1061.729132   983.370480   \n",
      "11   309.236156   329.075599  2080.443402   293.832861   182.164761   \n",
      "12   155.443720   133.328542  2116.848837   160.549058   286.031030   \n",
      "13   386.798397   411.097616  2044.219105   378.221165   265.782806   \n",
      "14   161.659364   128.080053  2090.824359   173.039013   300.484193   \n",
      "15   342.378080   410.298062  2053.816326   374.185115   282.438046   \n",
      "16   219.641185   232.794974  2120.513263   202.721484   204.695506   \n",
      "17   145.065502   116.134620  2130.326207   159.705197   293.686057   \n",
      "18   146.002568   144.551029  2136.687506   131.316412   275.916201   \n",
      "19   155.107221   131.259285  2130.978766   162.337611   287.866723   \n",
      "20   168.435448   160.549836  2135.392177   152.613073   260.141308   \n",
      "21   792.759579   795.361553  1757.912114   735.194872   686.094928   \n",
      "22   147.271009   104.383907  2134.317572   160.096846   297.080376   \n",
      "23     0.000000   149.461534  2152.439837   151.344805   275.997283   \n",
      "24   149.461534     0.000000  2125.878995   169.195154   300.752805   \n",
      "25  2152.439837  2125.878995     0.000000  2138.927652  2099.108799   \n",
      "26   151.344805   169.195154  2138.927652     0.000000   267.318630   \n",
      "27   275.997283   300.752805  2099.108799   267.318630     0.000000   \n",
      "28   115.124932   131.403957  2129.700214   173.605875   302.508264   \n",
      "\n",
      "             28  \n",
      "0    702.468505  \n",
      "1    896.468349  \n",
      "2    169.955141  \n",
      "3    330.698125  \n",
      "4    556.461589  \n",
      "5    304.860214  \n",
      "6    236.953054  \n",
      "7   2189.370857  \n",
      "8   2351.599615  \n",
      "9    448.110199  \n",
      "10  1082.413391  \n",
      "11   337.768782  \n",
      "12   153.790442  \n",
      "13   406.920447  \n",
      "14   142.225174  \n",
      "15   369.025067  \n",
      "16   238.604275  \n",
      "17   143.860175  \n",
      "18   155.198260  \n",
      "19   144.511245  \n",
      "20   174.933559  \n",
      "21   794.754050  \n",
      "22   140.274730  \n",
      "23   115.124932  \n",
      "24   131.403957  \n",
      "25  2129.700214  \n",
      "26   173.605875  \n",
      "27   302.508264  \n",
      "28     0.000000  \n",
      "\n",
      "[29 rows x 29 columns]\n"
     ]
    }
   ],
   "source": [
    "print(distance)"
   ]
  },
  {
   "cell_type": "code",
   "execution_count": 39,
   "metadata": {},
   "outputs": [],
   "source": [
    "np.savetxt(r'/media/rytisk/01D31DACBEB500B0/Projects/bioinformatics/phylip.txt', distance.values, fmt='%f')"
   ]
  },
  {
   "cell_type": "markdown",
   "metadata": {},
   "source": [
    "#### Maybe: https://biopython.org/wiki/Phylo#Tree_Construction"
   ]
  },
  {
   "cell_type": "code",
   "execution_count": null,
   "metadata": {},
   "outputs": [],
   "source": []
  }
 ],
 "metadata": {
  "kernelspec": {
   "display_name": "bio-py",
   "language": "python",
   "name": "bio-py"
  },
  "language_info": {
   "codemirror_mode": {
    "name": "ipython",
    "version": 3
   },
   "file_extension": ".py",
   "mimetype": "text/x-python",
   "name": "python",
   "nbconvert_exporter": "python",
   "pygments_lexer": "ipython3",
   "version": "3.5.2"
  }
 },
 "nbformat": 4,
 "nbformat_minor": 2
}
