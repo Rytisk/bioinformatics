{
 "cells": [
  {
   "cell_type": "markdown",
   "metadata": {},
   "source": [
    "# Bioinformatika Lab. 1"
   ]
  },
  {
   "cell_type": "code",
   "execution_count": 66,
   "metadata": {},
   "outputs": [],
   "source": [
    "from Bio import SeqIO\n",
    "from Bio.Seq import Seq\n",
    "from bio_utils import *\n",
    "from Bio import Align\n",
    "import numpy as np\n",
    "import glob"
   ]
  },
  {
   "cell_type": "code",
   "execution_count": 67,
   "metadata": {},
   "outputs": [],
   "source": [
    "start = [\"ATG\"]\n",
    "stop = [\"TAA\", \"TAG\", \"TGA\"]\n",
    "convert = {\"C\" : \"G\", \"G\" : \"C\", \"T\" : \"A\", \"A\" : \"T\"}\n",
    "data_path = \"./data/\"\n",
    "output_path = \"./out/\"\n",
    "file_format = \"fasta\"\n",
    "proteins_out = output_path + \"proteins.txt\"\n",
    "phylip_out = output_path + \"phylip.phy\"\n",
    "\n",
    "sequences = []"
   ]
  },
  {
   "cell_type": "code",
   "execution_count": 68,
   "metadata": {},
   "outputs": [],
   "source": [
    "for file in glob.glob(data_path + '*.' + file_format):\n",
    "    rec = SeqIO.read(file, file_format)\n",
    "    sequences.append(rec.seq)"
   ]
  },
  {
   "cell_type": "code",
   "execution_count": 69,
   "metadata": {},
   "outputs": [],
   "source": [
    "def complement(data):\n",
    "    compl = []\n",
    "    for var in data:\n",
    "        compl.append(convert[var])\n",
    "    return compl"
   ]
  },
  {
   "cell_type": "code",
   "execution_count": 70,
   "metadata": {},
   "outputs": [],
   "source": [
    "def reverse(data):\n",
    "    return \"\".join(list(reversed(data)))"
   ]
  },
  {
   "cell_type": "code",
   "execution_count": 71,
   "metadata": {},
   "outputs": [],
   "source": [
    "def findOrfs(dna, st, numb, revert=False):\n",
    "    frame = \"-\" if revert else \"\"\n",
    "    frame += str(st)\n",
    "    orfstart = -1\n",
    "    orfend = -1\n",
    "    orfs = []\n",
    "    data = reverse(complement(dna)) if revert else dna\n",
    "    for index in range(st, len(data), 3):\n",
    "        codon = data[index:index+3]\n",
    "        last_start = 0\n",
    "        if codon in start:\n",
    "            if orfstart == -1:\n",
    "                orfstart = index\n",
    "        if codon in stop:\n",
    "            orfend = index + 3\n",
    "            if orfend > orfstart and orfstart != -1:\n",
    "                value = data[orfstart:orfend]\n",
    "                if orfend - orfstart > 100:\n",
    "                    orfs.append(Orf(orfstart, orfend, frame, value, (orfend - orfstart), \"orf\"+str(len(orfs)+numb+1)))\n",
    "                orfstart = -1\n",
    "    return orfs"
   ]
  },
  {
   "cell_type": "code",
   "execution_count": 72,
   "metadata": {},
   "outputs": [],
   "source": [
    "def getAllOrfs(dna, start=0):\n",
    "    orfs = []\n",
    "    numb = start\n",
    "    for frame in range(0, 3):\n",
    "        orfs.extend(findOrfs(dna, frame, numb))\n",
    "        numb = len(orfs) + start\n",
    "    \n",
    "    for frame in range(0, 3):\n",
    "        orfs.extend(findOrfs(dna, frame, numb, True))\n",
    "        numb = len(orfs) + start\n",
    "    return orfs    "
   ]
  },
  {
   "cell_type": "code",
   "execution_count": 73,
   "metadata": {},
   "outputs": [
    {
     "name": "stdout",
     "output_type": "stream",
     "text": [
      "Number of orfs: 35\n",
      "orf1 <Start: 1494, Stop: 1812, Length: 318, Frame: 0>\n",
      "orf2 <Start: 2400, Stop: 2793, Length: 393, Frame: 0>\n",
      "orf3 <Start: 2799, Stop: 2925, Length: 126, Frame: 0>\n",
      "orf4 <Start: 3279, Stop: 3462, Length: 183, Frame: 0>\n",
      "orf5 <Start: 4404, Stop: 4671, Length: 267, Frame: 0>\n",
      "orf6 <Start: 4677, Stop: 4848, Length: 171, Frame: 0>\n",
      "orf7 <Start: 4857, Stop: 5007, Length: 150, Frame: 0>\n",
      "orf8 <Start: 391, Stop: 1264, Length: 873, Frame: 1>\n",
      "orf9 <Start: 1684, Stop: 2644, Length: 960, Frame: 1>\n",
      "orf10 <Start: 2863, Stop: 3088, Length: 225, Frame: 1>\n",
      "orf11 <Start: 533, Stop: 962, Length: 429, Frame: 2>\n",
      "orf12 <Start: 1946, Stop: 2117, Length: 171, Frame: 2>\n",
      "orf13 <Start: 2261, Stop: 2372, Length: 111, Frame: 2>\n",
      "orf14 <Start: 2990, Stop: 3200, Length: 210, Frame: 2>\n",
      "orf15 <Start: 291, Stop: 393, Length: 102, Frame: -0>\n",
      "orf16 <Start: 4092, Stop: 4305, Length: 213, Frame: -0>\n",
      "orf17 <Start: 4962, Stop: 5112, Length: 150, Frame: -0>\n",
      "orf18 <Start: 5169, Stop: 5280, Length: 111, Frame: -0>\n",
      "orf19 <Start: 1618, Stop: 1738, Length: 120, Frame: -1>\n",
      "orf20 <Start: 1783, Stop: 1897, Length: 114, Frame: -1>\n",
      "orf21 <Start: 2323, Stop: 2449, Length: 126, Frame: -1>\n",
      "orf22 <Start: 2464, Stop: 2821, Length: 357, Frame: -1>\n",
      "orf23 <Start: 3397, Stop: 3505, Length: 108, Frame: -1>\n",
      "orf24 <Start: 4102, Stop: 4219, Length: 117, Frame: -1>\n",
      "orf25 <Start: 4459, Stop: 4567, Length: 108, Frame: -1>\n",
      "orf26 <Start: 194, Stop: 1055, Length: 861, Frame: -2>\n",
      "orf27 <Start: 2519, Stop: 2639, Length: 120, Frame: -2>\n",
      "orf28 <Start: 2732, Stop: 2903, Length: 171, Frame: -2>\n",
      "orf29 <Start: 4133, Stop: 4238, Length: 105, Frame: -2>\n",
      "orf30 <Start: 0, Stop: 873, Length: 873, Frame: 0>\n",
      "orf31 <Start: 142, Stop: 571, Length: 429, Frame: 1>\n",
      "orf32 <Start: 27, Stop: 240, Length: 213, Frame: -0>\n",
      "orf33 <Start: 37, Stop: 154, Length: 117, Frame: -1>\n",
      "orf34 <Start: 394, Stop: 502, Length: 108, Frame: -1>\n",
      "orf35 <Start: 68, Stop: 173, Length: 105, Frame: -2>\n"
     ]
    }
   ],
   "source": [
    "orfs = []\n",
    "for seq in sequences:\n",
    "    orfs.extend(getAllOrfs(seq, len(orfs)))\n",
    "print(\"Number of orfs: {}\".format(len(orfs)))\n",
    "for o in orfs:\n",
    "    print(o)"
   ]
  },
  {
   "cell_type": "code",
   "execution_count": 74,
   "metadata": {},
   "outputs": [],
   "source": [
    "rnas = toRNAs(orfs)"
   ]
  },
  {
   "cell_type": "code",
   "execution_count": 75,
   "metadata": {},
   "outputs": [],
   "source": [
    "proteins = toProteins(rnas)\n",
    "writeToFile(proteins_out, proteins)"
   ]
  },
  {
   "cell_type": "markdown",
   "metadata": {
    "scrolled": true
   },
   "source": [
    "## Alignment"
   ]
  },
  {
   "cell_type": "code",
   "execution_count": 76,
   "metadata": {},
   "outputs": [],
   "source": [
    "aligner = Align.PairwiseAligner()\n",
    "aligner.open_gap_score = -10\n",
    "aligner.extend_gap_score = -0.5"
   ]
  },
  {
   "cell_type": "code",
   "execution_count": 77,
   "metadata": {},
   "outputs": [],
   "source": [
    "def getComparisons(orfs):\n",
    "    comparisons = []\n",
    "    for i in range(0, len(orfs)):\n",
    "        for j in range(i+1, len(orfs)):\n",
    "            al = aligner.align(orfs[i].value, orfs[j].value)\n",
    "            comparisons.append(Comparison(orfs[i],orfs[j],al))\n",
    "    return comparisons"
   ]
  },
  {
   "cell_type": "code",
   "execution_count": 78,
   "metadata": {},
   "outputs": [],
   "source": [
    "def getScores(values):\n",
    "    arr = np.zeros((len(values), len(values)))\n",
    "    for i in range(0, len(values)):\n",
    "        for j in range(0, len(values)):\n",
    "            arr[i,j] = aligner.score(values[i], values[j])\n",
    "    return arr"
   ]
  },
  {
   "cell_type": "code",
   "execution_count": 79,
   "metadata": {},
   "outputs": [],
   "source": [
    "#comparisons = getComparisons(orfs)\n",
    "#comparisons.sort(key=lambda x: x.alignment.score, reverse=False)\n",
    "#for c in comparisons:\n",
    "#    print(\"{} and {} Score: {}\".format(c.firstOrf.name, c.secondOrf.name, c.alignment.score))"
   ]
  },
  {
   "cell_type": "code",
   "execution_count": 80,
   "metadata": {},
   "outputs": [],
   "source": [
    "values = list(map(lambda x: x.value, orfs))    #DNAs"
   ]
  },
  {
   "cell_type": "code",
   "execution_count": 81,
   "metadata": {},
   "outputs": [],
   "source": [
    "scores = getScores(values)"
   ]
  },
  {
   "cell_type": "markdown",
   "metadata": {
    "scrolled": true
   },
   "source": [
    "## Distances"
   ]
  },
  {
   "cell_type": "code",
   "execution_count": 82,
   "metadata": {},
   "outputs": [],
   "source": [
    "import pandas as pd\n",
    "from scipy.spatial import distance_matrix\n",
    "\n",
    "data = np.asarray(scores)\n",
    "df = pd.DataFrame(data)"
   ]
  },
  {
   "cell_type": "code",
   "execution_count": 83,
   "metadata": {},
   "outputs": [],
   "source": [
    "distances = pd.DataFrame(distance_matrix(df.values, df.values))"
   ]
  },
  {
   "cell_type": "code",
   "execution_count": 84,
   "metadata": {},
   "outputs": [],
   "source": [
    "rows = list(map(lambda x: x.name, orfs))\n",
    "\n",
    "rows = np.array(rows)[:, np.newaxis]"
   ]
  },
  {
   "cell_type": "code",
   "execution_count": 85,
   "metadata": {},
   "outputs": [],
   "source": [
    "np.savetxt(phylip_out, np.hstack((rows, distances.values)), fmt='%s', header=str(len(rows)),comments='')"
   ]
  },
  {
   "cell_type": "markdown",
   "metadata": {},
   "source": [
    "## Trees"
   ]
  },
  {
   "cell_type": "markdown",
   "metadata": {},
   "source": [
    "#### Tree generator tool: http://www.trex.uqam.ca/index.php?action=trex&menuD=1&method=2"
   ]
  },
  {
   "cell_type": "markdown",
   "metadata": {},
   "source": [
    "### Plasmid tree"
   ]
  },
  {
   "cell_type": "markdown",
   "metadata": {},
   "source": [
    "![title](./img/plasmid.svg)"
   ]
  },
  {
   "cell_type": "raw",
   "metadata": {},
   "source": [
    "Least-squares coefficient  Sum (Dij-ADij)^2  = 175070.930854\n",
    "                            i<j \n",
    "Average absolute difference  Sum |Dij-ADij|/(n(n-1)/2)  = 15.020645\n",
    "                             i<j \n",
    "Maximum absolute difference   Max|Dij-ADij| = 141.284414\n",
    "                              i,j \n",
    "Total length of the tree   L  = 5711.986619"
   ]
  },
  {
   "cell_type": "markdown",
   "metadata": {},
   "source": [
    "### Plasmid and Test tree"
   ]
  },
  {
   "cell_type": "markdown",
   "metadata": {},
   "source": [
    "![title](./img/plasmidAndTest.svg)"
   ]
  },
  {
   "cell_type": "raw",
   "metadata": {},
   "source": [
    "Least-squares coefficient  Sum (Dij-ADij)^2  = 504613.080410\n",
    "                            i<j \n",
    "Average absolute difference  Sum |Dij-ADij|/(n(n-1)/2)  = 18.155284\n",
    "                             i<j \n",
    "Maximum absolute difference   Max|Dij-ADij| = 187.502910\n",
    "                              i,j \n",
    "Total length of the tree   L  = 6303.853909"
   ]
  },
  {
   "cell_type": "code",
   "execution_count": null,
   "metadata": {},
   "outputs": [],
   "source": []
  }
 ],
 "metadata": {
  "kernelspec": {
   "display_name": "bio-py",
   "language": "python",
   "name": "bio-py"
  },
  "language_info": {
   "codemirror_mode": {
    "name": "ipython",
    "version": 3
   },
   "file_extension": ".py",
   "mimetype": "text/x-python",
   "name": "python",
   "nbconvert_exporter": "python",
   "pygments_lexer": "ipython3",
   "version": "3.5.2"
  }
 },
 "nbformat": 4,
 "nbformat_minor": 2
}
