{
 "cells": [
  {
   "cell_type": "code",
   "execution_count": 1,
   "metadata": {},
   "outputs": [],
   "source": [
    "import fastq_analyzer as fastq\n",
    "from Bio import SeqIO\n",
    "from Bio.Blast import NCBIWWW, NCBIXML"
   ]
  },
  {
   "cell_type": "code",
   "execution_count": 5,
   "metadata": {},
   "outputs": [
    {
     "name": "stdout",
     "output_type": "stream",
     "text": [
      "[53.64238410596026, 50.993377483443716, 52.317880794701985]\n"
     ]
    }
   ],
   "source": [
    "reads = fastq.analyze()"
   ]
  },
  {
   "cell_type": "code",
   "execution_count": 3,
   "metadata": {},
   "outputs": [
    {
     "name": "stdout",
     "output_type": "stream",
     "text": [
      "ID: M00827:12:000000000-AEUNW:1:1101:11742:3950\n",
      "Name: M00827:12:000000000-AEUNW:1:1101:11742:3950\n",
      "Description: M00827:12:000000000-AEUNW:1:1101:11742:3950 1:N:0:6\n",
      "Number of features: 0\n",
      "Per letter annotation for: phred_quality\n",
      "Seq('CCCATTGTTGATGAAGGCAGTAACGCCGCTTTTGACATCGTTTATAGCGATGCG...AGT', SingleLetterAlphabet())\n"
     ]
    }
   ],
   "source": [
    "print(reads[0])"
   ]
  },
  {
   "cell_type": "code",
   "execution_count": 6,
   "metadata": {},
   "outputs": [],
   "source": [
    "result_handle = NCBIWWW.qblast(\"blastn\", \"nt\", reads[0].seq, entrez_query='txid2[ORGN]')\n",
    "blast_record = NCBIXML.read(result_handle)"
   ]
  },
  {
   "cell_type": "code",
   "execution_count": 15,
   "metadata": {},
   "outputs": [
    {
     "name": "stdout",
     "output_type": "stream",
     "text": [
      "gi|1418479572|gb|CP023749.1| Escherichia coli strain RTdelA_B_UU3 chromosome\n"
     ]
    }
   ],
   "source": [
    "for desc in blast_record.descriptions:\n",
    "    print(desc.title)\n",
    "    break"
   ]
  },
  {
   "cell_type": "code",
   "execution_count": 21,
   "metadata": {},
   "outputs": [
    {
     "name": "stdout",
     "output_type": "stream",
     "text": [
      " Escherichia coli strain RTdelA_B_UU3 chromosome\n"
     ]
    }
   ],
   "source": [
    "for align in blast_record.alignments:\n",
    "    print(align.title.split(\"|\")[4])\n",
    "    break"
   ]
  },
  {
   "cell_type": "code",
   "execution_count": 22,
   "metadata": {},
   "outputs": [
    {
     "name": "stdout",
     "output_type": "stream",
     "text": [
      "M00827:12:000000000-AEUNW:1:1101:11742:3950\n"
     ]
    }
   ],
   "source": [
    "print(reads[0].id)"
   ]
  },
  {
   "cell_type": "code",
   "execution_count": 24,
   "metadata": {},
   "outputs": [],
   "source": [
    "data = {}\n",
    "for read in reads:\n",
    "    result_handle = NCBIWWW.qblast(\"blastn\", \"nt\", read.seq, entrez_query='txid2[ORGN]', descriptions=1, alignments=1)\n",
    "    blast_record = NCBIXML.read(result_handle)\n",
    "    for alignment in blast_record.alignments:\n",
    "        org = alignment.title.split(\"|\")[4]\n",
    "        data[read.id] = org"
   ]
  },
  {
   "cell_type": "code",
   "execution_count": 25,
   "metadata": {},
   "outputs": [
    {
     "name": "stdout",
     "output_type": "stream",
     "text": [
      "15\n"
     ]
    }
   ],
   "source": [
    "print(len(data))"
   ]
  },
  {
   "cell_type": "code",
   "execution_count": 28,
   "metadata": {},
   "outputs": [
    {
     "name": "stdout",
     "output_type": "stream",
     "text": [
      "M00827:12:000000000-AEUNW:1:1101:19585:8123 :  Escherichia coli K-12 strain DHB4, complete genome\n",
      "M00827:12:000000000-AEUNW:1:1101:22037:14458 :  Escherichia coli str. K-12 substr. W3110 substrain ZK126 genome\n",
      "M00827:12:000000000-AEUNW:1:1101:11742:3950 :  Escherichia coli strain AR_0150, complete genome\n",
      "M00827:12:000000000-AEUNW:1:1101:26090:9604 :  Shigella flexneri strain FDAARGOS_74 chromosome, complete genome\n",
      "M00827:12:000000000-AEUNW:1:1101:22570:7694 :  Escherichia coli strain AR_0114, complete genome\n",
      "M00827:12:000000000-AEUNW:1:1101:15184:10927 :  Escherichia coli strain 4A chromosome, complete genome\n",
      "M00827:12:000000000-AEUNW:1:1101:15883:9393 :  Escherichia coli strain HST04, complete genome\n",
      "M00827:12:000000000-AEUNW:1:1101:20008:11235 :  Escherichia coli C, complete genome\n",
      "M00827:12:000000000-AEUNW:1:1101:18967:1954 :  Escherichia coli strain AR_0114, complete genome\n",
      "M00827:12:000000000-AEUNW:1:1101:21934:15051 :  Pseudonocardia sp. EC080625-04, complete genome\n",
      "M00827:12:000000000-AEUNW:1:1101:16748:16811 :  Escherichia coli strain AR_0114, complete genome\n",
      "M00827:12:000000000-AEUNW:1:1101:18764:19339 :  Escherichia coli isolate WI2 isolate genome assembly, chromosome: WI2\n",
      "M00827:12:000000000-AEUNW:1:1101:7248:14390 :  Escherichia coli strain AR_0114, complete genome\n",
      "M00827:12:000000000-AEUNW:1:1101:10994:12607 :  Escherichia coli strain 2F_0 chromosome, complete genome\n",
      "M00827:12:000000000-AEUNW:1:1101:18785:5472 :  Escherichia coli strain ECONIH6 chromosome, complete genome\n"
     ]
    }
   ],
   "source": [
    "for key, value in data.items():\n",
    "    print(\"{} : {}\".format(key, value))"
   ]
  },
  {
   "cell_type": "code",
   "execution_count": 2,
   "metadata": {},
   "outputs": [
    {
     "name": "stdout",
     "output_type": "stream",
     "text": [
      "M00827:12:000000000-AEUNW:1:1101:23128:3788\n",
      "M00827:12:000000000-AEUNW:1:1101:17868:6469\n",
      "M00827:12:000000000-AEUNW:1:1101:11761:10309\n",
      "M00827:12:000000000-AEUNW:1:1101:5538:14656\n",
      "M00827:12:000000000-AEUNW:1:1101:19588:16449\n",
      "M00827:12:000000000-AEUNW:1:1101:11742:3950\n",
      "M00827:12:000000000-AEUNW:1:1101:19585:8123\n",
      "M00827:12:000000000-AEUNW:1:1101:26090:9604\n",
      "M00827:12:000000000-AEUNW:1:1101:20008:11235\n",
      "M00827:12:000000000-AEUNW:1:1101:7248:14390\n",
      "M00827:12:000000000-AEUNW:1:1101:23294:5998\n",
      "M00827:12:000000000-AEUNW:1:1101:7922:8647\n",
      "M00827:12:000000000-AEUNW:1:1101:11245:8780\n",
      "M00827:12:000000000-AEUNW:1:1101:28070:13077\n",
      "M00827:12:000000000-AEUNW:1:1101:11998:18470\n"
     ]
    },
    {
     "data": {
      "image/png": "[encoded data removed]",
      "text/plain": [
       "<Figure size 432x288 with 1 Axes>"
      ]
     },
     "metadata": {
      "needs_background": "light"
     },
     "output_type": "display_data"
    }
   ],
   "source": [
    "records, data, counter = fastq.analyze()\n",
    "peaks=[35.76158940397351, 53.64238410596026, 70.19867549668875]\n",
    "reads = fastq.get_reads(peaks, records, data)\n",
    "data = {}\n",
    "for read in reads:\n",
    "    result_handle = NCBIWWW.qblast(\"blastn\", \"nt\", read.seq, entrez_query='txid2[ORGN]', descriptions=1, alignments=1,hitlist_size=1)\n",
    "    blast_record = NCBIXML.read(result_handle)\n",
    "    for alignment in blast_record.alignments:\n",
    "        org = alignment.title.split(\"|\")[4]\n",
    "        data[read.id] = org\n",
    "        break\n",
    "    print(read.id)"
   ]
  },
  {
   "cell_type": "code",
   "execution_count": 4,
   "metadata": {},
   "outputs": [
    {
     "name": "stdout",
     "output_type": "stream",
     "text": [
      "M00827:12:000000000-AEUNW:1:1101:19585:8123 :  Shigella boydii strain NCTC 9734 chromosome\n",
      "M00827:12:000000000-AEUNW:1:1101:20008:11235 :  Escherichia coli strain DTU-1 chromosome, complete genome\n",
      "M00827:12:000000000-AEUNW:1:1101:7922:8647 :  Thermus thermophilus HB8 genomic DNA, complete genome\n",
      "M00827:12:000000000-AEUNW:1:1101:11761:10309 :  Staphylococcus aureus DNA, complete genome, strain: GN3\n",
      "M00827:12:000000000-AEUNW:1:1101:11742:3950 :  Shigella dysenteriae strain CFSAN010956 chromosome, complete genome\n",
      "M00827:12:000000000-AEUNW:1:1101:23128:3788 :  Shigella flexneri 2a strain ATCC 29903 chromosome, complete genome\n",
      "M00827:12:000000000-AEUNW:1:1101:11245:8780 :  Thermus thermophilus HB8 genomic DNA, complete genome\n",
      "M00827:12:000000000-AEUNW:1:1101:19588:16449 :  Staphylococcus aureus DNA, complete genome, strain: GN3\n",
      "M00827:12:000000000-AEUNW:1:1101:7248:14390 :  Escherichia coli strain AR_0077 chromosome, complete genome\n",
      "M00827:12:000000000-AEUNW:1:1101:5538:14656 :  Escherichia coli strain DTU-1 chromosome, complete genome\n",
      "M00827:12:000000000-AEUNW:1:1101:26090:9604 :  Escherichia coli strain RTdelA_B_UU3 chromosome\n",
      "M00827:12:000000000-AEUNW:1:1101:11998:18470 :  Thermus thermophilus plasmid pTF62, complete sequence\n",
      "M00827:12:000000000-AEUNW:1:1101:28070:13077 :  Thermus thermophilus HB8 genomic DNA, complete genome\n",
      "M00827:12:000000000-AEUNW:1:1101:17868:6469 :  Staphylococcus aureus strain 293G chromosome, complete genome\n",
      "M00827:12:000000000-AEUNW:1:1101:23294:5998 :  Thermus thermophilus HB8 genomic DNA, complete genome\n"
     ]
    }
   ],
   "source": [
    "for id, name in data.items():\n",
    "    print(\"{} : {}\".format(id, name))"
   ]
  },
  {
   "cell_type": "code",
   "execution_count": null,
   "metadata": {},
   "outputs": [],
   "source": []
  }
 ],
 "metadata": {
  "kernelspec": {
   "display_name": "bio-py",
   "language": "python",
   "name": "bio-py"
  },
  "language_info": {
   "codemirror_mode": {
    "name": "ipython",
    "version": 3
   },
   "file_extension": ".py",
   "mimetype": "text/x-python",
   "name": "python",
   "nbconvert_exporter": "python",
   "pygments_lexer": "ipython3",
   "version": "3.5.2"
  }
 },
 "nbformat": 4,
 "nbformat_minor": 2
}
